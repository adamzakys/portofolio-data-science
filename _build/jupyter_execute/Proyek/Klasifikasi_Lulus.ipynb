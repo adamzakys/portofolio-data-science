{
 "cells": [
  {
   "cell_type": "markdown",
   "metadata": {
    "id": "ydwBPQ-l8w54"
   },
   "source": [
    "# Prediksi Kelulusan Mahasiswa Baru Menggunakan Machine Learning\n"
   ]
  },
  {
   "cell_type": "markdown",
   "metadata": {
    "id": "DiCErmqD8zIG"
   },
   "source": [
    "Proyek ini bertujuan untuk membangun sebuah model machine learning yang mampu memprediksi status kelulusan calon mahasiswa berdasarkan data pendaftaran SNMPTN 2018. Dengan menggunakan data historis, disini akan mengidentifikasi faktor-faktor kunci yang paling berpengaruh terhadap keberhasilan seorang siswa. Model yang akan dikembangkan adalah RandomForestClassifier, sebuah algoritma yang kuat untuk tugas klasifikasi. Tantangan utama dalam proyek ini adalah menangani data yang tidak seimbang (imbalanced data), di mana jumlah mahasiswa yang lulus jauh lebih sedikit daripada yang tidak lulus."
   ]
  },
  {
   "cell_type": "markdown",
   "metadata": {
    "id": "40wb8KVL87Pt"
   },
   "source": [
    "## Import Library dan Memuat Data\n",
    "mempersiapkan semua yang dibutuhkan"
   ]
  },
  {
   "cell_type": "code",
   "execution_count": 1,
   "metadata": {
    "id": "NNCRcEYXIeIm"
   },
   "outputs": [],
   "source": [
    "import pandas as pd\n",
    "import numpy as np\n",
    "from sklearn.model_selection import train_test_split\n",
    "from sklearn.preprocessing import OneHotEncoder\n",
    "from sklearn.ensemble import RandomForestClassifier\n",
    "from sklearn.metrics import classification_report, confusion_matrix\n",
    "import matplotlib.pyplot as plt\n",
    "import seaborn as sns\n"
   ]
  },
  {
   "cell_type": "markdown",
   "metadata": {
    "id": "MNC4drG4Ii9u"
   },
   "source": [
    "## Memuat Data"
   ]
  },
  {
   "cell_type": "code",
   "execution_count": 2,
   "metadata": {
    "colab": {
     "base_uri": "https://localhost:8080/",
     "height": 429
    },
    "id": "XeDvcVqFLKvm",
    "outputId": "c43e143c-8d84-40c3-95a8-d9ef1affb406"
   },
   "outputs": [
    {
     "data": {
      "application/vnd.google.colaboratory.intrinsic+json": {
       "type": "dataframe"
      },
      "text/html": [
       "\n",
       "  <div id=\"df-c7baa098-29a5-490c-988d-67c6e03a79dd\" class=\"colab-df-container\">\n",
       "    <div>\n",
       "<style scoped>\n",
       "    .dataframe tbody tr th:only-of-type {\n",
       "        vertical-align: middle;\n",
       "    }\n",
       "\n",
       "    .dataframe tbody tr th {\n",
       "        vertical-align: top;\n",
       "    }\n",
       "\n",
       "    .dataframe thead th {\n",
       "        text-align: right;\n",
       "    }\n",
       "</style>\n",
       "<table border=\"1\" class=\"dataframe\">\n",
       "  <thead>\n",
       "    <tr style=\"text-align: right;\">\n",
       "      <th></th>\n",
       "      <th>nomor_pendaftaran</th>\n",
       "      <th>JK</th>\n",
       "      <th>bidikmisi</th>\n",
       "      <th>Sekolah</th>\n",
       "      <th>Kabupaten</th>\n",
       "      <th>Provinsi</th>\n",
       "      <th>Pilihan 1</th>\n",
       "      <th>Pilihan 2</th>\n",
       "      <th>Ranking Sekolah</th>\n",
       "      <th>Nilai Mapel UN</th>\n",
       "      <th>...</th>\n",
       "      <th>X5</th>\n",
       "      <th>X6</th>\n",
       "      <th>X7</th>\n",
       "      <th>X8</th>\n",
       "      <th>X9</th>\n",
       "      <th>XT</th>\n",
       "      <th>IP Sem 1</th>\n",
       "      <th>IP Sem 2</th>\n",
       "      <th>Predikat Semester 1</th>\n",
       "      <th>Predikat Semester 2</th>\n",
       "    </tr>\n",
       "  </thead>\n",
       "  <tbody>\n",
       "    <tr>\n",
       "      <th>0</th>\n",
       "      <td>4180000053</td>\n",
       "      <td>P</td>\n",
       "      <td>NaN</td>\n",
       "      <td>SMKN 1 TAMBUN SELATAN</td>\n",
       "      <td>Kab Bekasi</td>\n",
       "      <td>Jawa Barat</td>\n",
       "      <td>TEKNIK INFORMATIKA</td>\n",
       "      <td>MANAJEMEN</td>\n",
       "      <td>37</td>\n",
       "      <td>82.745854</td>\n",
       "      <td>...</td>\n",
       "      <td>10.343232</td>\n",
       "      <td>10.343232</td>\n",
       "      <td>10.343232</td>\n",
       "      <td>10.343232</td>\n",
       "      <td>7.50</td>\n",
       "      <td>70.524492</td>\n",
       "      <td>NaN</td>\n",
       "      <td>NaN</td>\n",
       "      <td>NaN</td>\n",
       "      <td>NaN</td>\n",
       "    </tr>\n",
       "    <tr>\n",
       "      <th>1</th>\n",
       "      <td>4180000054</td>\n",
       "      <td>L</td>\n",
       "      <td>NaN</td>\n",
       "      <td>MAN RANCAH</td>\n",
       "      <td>Kab Ciamis</td>\n",
       "      <td>Jawa Barat</td>\n",
       "      <td>ILMU POLITIK</td>\n",
       "      <td>PENDIDIKAN LUAR SEKOLAH</td>\n",
       "      <td>50</td>\n",
       "      <td>81.033269</td>\n",
       "      <td>...</td>\n",
       "      <td>10.129159</td>\n",
       "      <td>10.129159</td>\n",
       "      <td>10.129159</td>\n",
       "      <td>10.129159</td>\n",
       "      <td>10.00</td>\n",
       "      <td>71.709826</td>\n",
       "      <td>3.5</td>\n",
       "      <td>3.74</td>\n",
       "      <td>NaN</td>\n",
       "      <td>NaN</td>\n",
       "    </tr>\n",
       "    <tr>\n",
       "      <th>2</th>\n",
       "      <td>4180000057</td>\n",
       "      <td>L</td>\n",
       "      <td>NaN</td>\n",
       "      <td>SMAN 6 TASIKMALAYA</td>\n",
       "      <td>Kota Tasikmalaya</td>\n",
       "      <td>Jawa Barat</td>\n",
       "      <td>PENDIDIKAN GEOGRAFI</td>\n",
       "      <td>PENDIDIKAN LUAR SEKOLAH</td>\n",
       "      <td>182</td>\n",
       "      <td>81.278846</td>\n",
       "      <td>...</td>\n",
       "      <td>10.159856</td>\n",
       "      <td>10.159856</td>\n",
       "      <td>10.159856</td>\n",
       "      <td>10.159856</td>\n",
       "      <td>11.25</td>\n",
       "      <td>73.405190</td>\n",
       "      <td>3.6</td>\n",
       "      <td>3.25</td>\n",
       "      <td>NaN</td>\n",
       "      <td>NaN</td>\n",
       "    </tr>\n",
       "    <tr>\n",
       "      <th>3</th>\n",
       "      <td>4180000086</td>\n",
       "      <td>P</td>\n",
       "      <td>NaN</td>\n",
       "      <td>SMAN 5 CIREBON</td>\n",
       "      <td>Kota Cirebon</td>\n",
       "      <td>Jawa Barat</td>\n",
       "      <td>KESEHATAN MASYARAKAT</td>\n",
       "      <td>AGRIBISNIS</td>\n",
       "      <td>152</td>\n",
       "      <td>81.254098</td>\n",
       "      <td>...</td>\n",
       "      <td>10.156762</td>\n",
       "      <td>10.156762</td>\n",
       "      <td>10.156762</td>\n",
       "      <td>10.156762</td>\n",
       "      <td>7.50</td>\n",
       "      <td>68.527561</td>\n",
       "      <td>NaN</td>\n",
       "      <td>NaN</td>\n",
       "      <td>NaN</td>\n",
       "      <td>NaN</td>\n",
       "    </tr>\n",
       "    <tr>\n",
       "      <th>4</th>\n",
       "      <td>4180000137</td>\n",
       "      <td>P</td>\n",
       "      <td>NaN</td>\n",
       "      <td>SMAN 8 TASIKMALAYA</td>\n",
       "      <td>Kota Tasikmalaya</td>\n",
       "      <td>Jawa Barat</td>\n",
       "      <td>KESEHATAN MASYARAKAT</td>\n",
       "      <td>MANAJEMEN</td>\n",
       "      <td>187</td>\n",
       "      <td>80.576923</td>\n",
       "      <td>...</td>\n",
       "      <td>10.072115</td>\n",
       "      <td>10.072115</td>\n",
       "      <td>10.072115</td>\n",
       "      <td>10.072115</td>\n",
       "      <td>11.25</td>\n",
       "      <td>72.780220</td>\n",
       "      <td>NaN</td>\n",
       "      <td>NaN</td>\n",
       "      <td>NaN</td>\n",
       "      <td>NaN</td>\n",
       "    </tr>\n",
       "  </tbody>\n",
       "</table>\n",
       "<p>5 rows × 26 columns</p>\n",
       "</div>\n",
       "    <div class=\"colab-df-buttons\">\n",
       "\n",
       "  <div class=\"colab-df-container\">\n",
       "    <button class=\"colab-df-convert\" onclick=\"convertToInteractive('df-c7baa098-29a5-490c-988d-67c6e03a79dd')\"\n",
       "            title=\"Convert this dataframe to an interactive table.\"\n",
       "            style=\"display:none;\">\n",
       "\n",
       "  <svg xmlns=\"http://www.w3.org/2000/svg\" height=\"24px\" viewBox=\"0 -960 960 960\">\n",
       "    <path d=\"M120-120v-720h720v720H120Zm60-500h600v-160H180v160Zm220 220h160v-160H400v160Zm0 220h160v-160H400v160ZM180-400h160v-160H180v160Zm440 0h160v-160H620v160ZM180-180h160v-160H180v160Zm440 0h160v-160H620v160Z\"/>\n",
       "  </svg>\n",
       "    </button>\n",
       "\n",
       "  <style>\n",
       "    .colab-df-container {\n",
       "      display:flex;\n",
       "      gap: 12px;\n",
       "    }\n",
       "\n",
       "    .colab-df-convert {\n",
       "      background-color: #E8F0FE;\n",
       "      border: none;\n",
       "      border-radius: 50%;\n",
       "      cursor: pointer;\n",
       "      display: none;\n",
       "      fill: #1967D2;\n",
       "      height: 32px;\n",
       "      padding: 0 0 0 0;\n",
       "      width: 32px;\n",
       "    }\n",
       "\n",
       "    .colab-df-convert:hover {\n",
       "      background-color: #E2EBFA;\n",
       "      box-shadow: 0px 1px 2px rgba(60, 64, 67, 0.3), 0px 1px 3px 1px rgba(60, 64, 67, 0.15);\n",
       "      fill: #174EA6;\n",
       "    }\n",
       "\n",
       "    .colab-df-buttons div {\n",
       "      margin-bottom: 4px;\n",
       "    }\n",
       "\n",
       "    [theme=dark] .colab-df-convert {\n",
       "      background-color: #3B4455;\n",
       "      fill: #D2E3FC;\n",
       "    }\n",
       "\n",
       "    [theme=dark] .colab-df-convert:hover {\n",
       "      background-color: #434B5C;\n",
       "      box-shadow: 0px 1px 3px 1px rgba(0, 0, 0, 0.15);\n",
       "      filter: drop-shadow(0px 1px 2px rgba(0, 0, 0, 0.3));\n",
       "      fill: #FFFFFF;\n",
       "    }\n",
       "  </style>\n",
       "\n",
       "    <script>\n",
       "      const buttonEl =\n",
       "        document.querySelector('#df-c7baa098-29a5-490c-988d-67c6e03a79dd button.colab-df-convert');\n",
       "      buttonEl.style.display =\n",
       "        google.colab.kernel.accessAllowed ? 'block' : 'none';\n",
       "\n",
       "      async function convertToInteractive(key) {\n",
       "        const element = document.querySelector('#df-c7baa098-29a5-490c-988d-67c6e03a79dd');\n",
       "        const dataTable =\n",
       "          await google.colab.kernel.invokeFunction('convertToInteractive',\n",
       "                                                    [key], {});\n",
       "        if (!dataTable) return;\n",
       "\n",
       "        const docLinkHtml = 'Like what you see? Visit the ' +\n",
       "          '<a target=\"_blank\" href=https://colab.research.google.com/notebooks/data_table.ipynb>data table notebook</a>'\n",
       "          + ' to learn more about interactive tables.';\n",
       "        element.innerHTML = '';\n",
       "        dataTable['output_type'] = 'display_data';\n",
       "        await google.colab.output.renderOutput(dataTable, element);\n",
       "        const docLink = document.createElement('div');\n",
       "        docLink.innerHTML = docLinkHtml;\n",
       "        element.appendChild(docLink);\n",
       "      }\n",
       "    </script>\n",
       "  </div>\n",
       "\n",
       "\n",
       "    <div id=\"df-9c8e1585-9623-440b-9d9d-b686981cc0bb\">\n",
       "      <button class=\"colab-df-quickchart\" onclick=\"quickchart('df-9c8e1585-9623-440b-9d9d-b686981cc0bb')\"\n",
       "                title=\"Suggest charts\"\n",
       "                style=\"display:none;\">\n",
       "\n",
       "<svg xmlns=\"http://www.w3.org/2000/svg\" height=\"24px\"viewBox=\"0 0 24 24\"\n",
       "     width=\"24px\">\n",
       "    <g>\n",
       "        <path d=\"M19 3H5c-1.1 0-2 .9-2 2v14c0 1.1.9 2 2 2h14c1.1 0 2-.9 2-2V5c0-1.1-.9-2-2-2zM9 17H7v-7h2v7zm4 0h-2V7h2v10zm4 0h-2v-4h2v4z\"/>\n",
       "    </g>\n",
       "</svg>\n",
       "      </button>\n",
       "\n",
       "<style>\n",
       "  .colab-df-quickchart {\n",
       "      --bg-color: #E8F0FE;\n",
       "      --fill-color: #1967D2;\n",
       "      --hover-bg-color: #E2EBFA;\n",
       "      --hover-fill-color: #174EA6;\n",
       "      --disabled-fill-color: #AAA;\n",
       "      --disabled-bg-color: #DDD;\n",
       "  }\n",
       "\n",
       "  [theme=dark] .colab-df-quickchart {\n",
       "      --bg-color: #3B4455;\n",
       "      --fill-color: #D2E3FC;\n",
       "      --hover-bg-color: #434B5C;\n",
       "      --hover-fill-color: #FFFFFF;\n",
       "      --disabled-bg-color: #3B4455;\n",
       "      --disabled-fill-color: #666;\n",
       "  }\n",
       "\n",
       "  .colab-df-quickchart {\n",
       "    background-color: var(--bg-color);\n",
       "    border: none;\n",
       "    border-radius: 50%;\n",
       "    cursor: pointer;\n",
       "    display: none;\n",
       "    fill: var(--fill-color);\n",
       "    height: 32px;\n",
       "    padding: 0;\n",
       "    width: 32px;\n",
       "  }\n",
       "\n",
       "  .colab-df-quickchart:hover {\n",
       "    background-color: var(--hover-bg-color);\n",
       "    box-shadow: 0 1px 2px rgba(60, 64, 67, 0.3), 0 1px 3px 1px rgba(60, 64, 67, 0.15);\n",
       "    fill: var(--button-hover-fill-color);\n",
       "  }\n",
       "\n",
       "  .colab-df-quickchart-complete:disabled,\n",
       "  .colab-df-quickchart-complete:disabled:hover {\n",
       "    background-color: var(--disabled-bg-color);\n",
       "    fill: var(--disabled-fill-color);\n",
       "    box-shadow: none;\n",
       "  }\n",
       "\n",
       "  .colab-df-spinner {\n",
       "    border: 2px solid var(--fill-color);\n",
       "    border-color: transparent;\n",
       "    border-bottom-color: var(--fill-color);\n",
       "    animation:\n",
       "      spin 1s steps(1) infinite;\n",
       "  }\n",
       "\n",
       "  @keyframes spin {\n",
       "    0% {\n",
       "      border-color: transparent;\n",
       "      border-bottom-color: var(--fill-color);\n",
       "      border-left-color: var(--fill-color);\n",
       "    }\n",
       "    20% {\n",
       "      border-color: transparent;\n",
       "      border-left-color: var(--fill-color);\n",
       "      border-top-color: var(--fill-color);\n",
       "    }\n",
       "    30% {\n",
       "      border-color: transparent;\n",
       "      border-left-color: var(--fill-color);\n",
       "      border-top-color: var(--fill-color);\n",
       "      border-right-color: var(--fill-color);\n",
       "    }\n",
       "    40% {\n",
       "      border-color: transparent;\n",
       "      border-right-color: var(--fill-color);\n",
       "      border-top-color: var(--fill-color);\n",
       "    }\n",
       "    60% {\n",
       "      border-color: transparent;\n",
       "      border-right-color: var(--fill-color);\n",
       "    }\n",
       "    80% {\n",
       "      border-color: transparent;\n",
       "      border-right-color: var(--fill-color);\n",
       "      border-bottom-color: var(--fill-color);\n",
       "    }\n",
       "    90% {\n",
       "      border-color: transparent;\n",
       "      border-bottom-color: var(--fill-color);\n",
       "    }\n",
       "  }\n",
       "</style>\n",
       "\n",
       "      <script>\n",
       "        async function quickchart(key) {\n",
       "          const quickchartButtonEl =\n",
       "            document.querySelector('#' + key + ' button');\n",
       "          quickchartButtonEl.disabled = true;  // To prevent multiple clicks.\n",
       "          quickchartButtonEl.classList.add('colab-df-spinner');\n",
       "          try {\n",
       "            const charts = await google.colab.kernel.invokeFunction(\n",
       "                'suggestCharts', [key], {});\n",
       "          } catch (error) {\n",
       "            console.error('Error during call to suggestCharts:', error);\n",
       "          }\n",
       "          quickchartButtonEl.classList.remove('colab-df-spinner');\n",
       "          quickchartButtonEl.classList.add('colab-df-quickchart-complete');\n",
       "        }\n",
       "        (() => {\n",
       "          let quickchartButtonEl =\n",
       "            document.querySelector('#df-9c8e1585-9623-440b-9d9d-b686981cc0bb button');\n",
       "          quickchartButtonEl.style.display =\n",
       "            google.colab.kernel.accessAllowed ? 'block' : 'none';\n",
       "        })();\n",
       "      </script>\n",
       "    </div>\n",
       "\n",
       "    </div>\n",
       "  </div>\n"
      ],
      "text/plain": [
       "   nomor_pendaftaran JK bidikmisi                Sekolah         Kabupaten  \\\n",
       "0         4180000053  P       NaN  SMKN 1 TAMBUN SELATAN        Kab Bekasi   \n",
       "1         4180000054  L       NaN             MAN RANCAH        Kab Ciamis   \n",
       "2         4180000057  L       NaN     SMAN 6 TASIKMALAYA  Kota Tasikmalaya   \n",
       "3         4180000086  P       NaN         SMAN 5 CIREBON      Kota Cirebon   \n",
       "4         4180000137  P       NaN     SMAN 8 TASIKMALAYA  Kota Tasikmalaya   \n",
       "\n",
       "     Provinsi             Pilihan 1                Pilihan 2  Ranking Sekolah  \\\n",
       "0  Jawa Barat    TEKNIK INFORMATIKA                MANAJEMEN               37   \n",
       "1  Jawa Barat          ILMU POLITIK  PENDIDIKAN LUAR SEKOLAH               50   \n",
       "2  Jawa Barat   PENDIDIKAN GEOGRAFI  PENDIDIKAN LUAR SEKOLAH              182   \n",
       "3  Jawa Barat  KESEHATAN MASYARAKAT              AGRIBISNIS               152   \n",
       "4  Jawa Barat  KESEHATAN MASYARAKAT                MANAJEMEN              187   \n",
       "\n",
       "   Nilai Mapel UN  ...         X5         X6         X7         X8     X9  \\\n",
       "0       82.745854  ...  10.343232  10.343232  10.343232  10.343232   7.50   \n",
       "1       81.033269  ...  10.129159  10.129159  10.129159  10.129159  10.00   \n",
       "2       81.278846  ...  10.159856  10.159856  10.159856  10.159856  11.25   \n",
       "3       81.254098  ...  10.156762  10.156762  10.156762  10.156762   7.50   \n",
       "4       80.576923  ...  10.072115  10.072115  10.072115  10.072115  11.25   \n",
       "\n",
       "          XT  IP Sem 1  IP Sem 2  Predikat Semester 1  Predikat Semester 2  \n",
       "0  70.524492       NaN       NaN                  NaN                  NaN  \n",
       "1  71.709826       3.5      3.74                  NaN                  NaN  \n",
       "2  73.405190       3.6      3.25                  NaN                  NaN  \n",
       "3  68.527561       NaN       NaN                  NaN                  NaN  \n",
       "4  72.780220       NaN       NaN                  NaN                  NaN  \n",
       "\n",
       "[5 rows x 26 columns]"
      ]
     },
     "metadata": {},
     "output_type": "display_data"
    }
   ],
   "source": [
    "# Muat dataset dari URL\n",
    "file_path = 'https://raw.githubusercontent.com/adamzakys/SourceDataset/refs/heads/main/Dataset_prediksi_kelulusan.csv'\n",
    "df = pd.read_csv(file_path)\n",
    "\n",
    "# Tampilkan 5 baris pertama\n",
    "display(df.head())"
   ]
  },
  {
   "cell_type": "markdown",
   "metadata": {
    "id": "GQ9GcyEbLNm_"
   },
   "source": [
    "## Eksplorasi dan Pemahaman Data (EDA)"
   ]
  },
  {
   "cell_type": "markdown",
   "metadata": {
    "id": "Ngvym_b0LVO2"
   },
   "source": [
    "### Informasi Dasar DataFrame\n"
   ]
  },
  {
   "cell_type": "code",
   "execution_count": 3,
   "metadata": {
    "colab": {
     "base_uri": "https://localhost:8080/"
    },
    "id": "5Y2X-iW0LXaP",
    "outputId": "704c137b-f6a9-4849-f3b9-5824c82b6293"
   },
   "outputs": [
    {
     "name": "stdout",
     "output_type": "stream",
     "text": [
      "<class 'pandas.core.frame.DataFrame'>\n",
      "RangeIndex: 3587 entries, 0 to 3586\n",
      "Data columns (total 26 columns):\n",
      " #   Column               Non-Null Count  Dtype  \n",
      "---  ------               --------------  -----  \n",
      " 0   nomor_pendaftaran    3587 non-null   int64  \n",
      " 1   JK                   3587 non-null   object \n",
      " 2   bidikmisi            1278 non-null   object \n",
      " 3   Sekolah              3587 non-null   object \n",
      " 4   Kabupaten            3587 non-null   object \n",
      " 5   Provinsi             3587 non-null   object \n",
      " 6   Pilihan 1            3587 non-null   object \n",
      " 7   Pilihan 2            2969 non-null   object \n",
      " 8   Ranking Sekolah      3587 non-null   int64  \n",
      " 9   Nilai Mapel UN       3587 non-null   float64\n",
      " 10  Lulus pada Prodi     744 non-null    object \n",
      " 11  Lulus Pilihan        744 non-null    object \n",
      " 12  X1                   3587 non-null   float64\n",
      " 13  X2                   3587 non-null   float64\n",
      " 14  X3                   3587 non-null   float64\n",
      " 15  X4                   3587 non-null   int64  \n",
      " 16  X5                   3587 non-null   float64\n",
      " 17  X6                   3587 non-null   float64\n",
      " 18  X7                   3587 non-null   float64\n",
      " 19  X8                   3587 non-null   float64\n",
      " 20  X9                   3587 non-null   float64\n",
      " 21  XT                   3587 non-null   float64\n",
      " 22  IP Sem 1             594 non-null    float64\n",
      " 23  IP Sem 2             559 non-null    float64\n",
      " 24  Predikat Semester 1  0 non-null      float64\n",
      " 25  Predikat Semester 2  0 non-null      float64\n",
      "dtypes: float64(14), int64(3), object(9)\n",
      "memory usage: 728.7+ KB\n"
     ]
    }
   ],
   "source": [
    "df.info()"
   ]
  },
  {
   "cell_type": "markdown",
   "metadata": {
    "id": "ShIjFeEkNh2W"
   },
   "source": [
    "Total Data: Terdapat 3587 baris (entri) dan 26 kolom (fitur).\n",
    "\n",
    "Tipe Data:\n",
    "\n",
    "*   Kolom seperti JK, bidikmisi, Sekolah, dan lainnya memiliki tipe data object, yang menandakan data ini berisi teks (kategorikal) dan perlu diubah menjadi angka (encoding) sebelum diproses oleh model.\n",
    "\n",
    "\n",
    "*   Kolom lainnya adalah numerik (int64, float64) dan bisa langsung digunakan setelah pembersihan.\n",
    "\n",
    "Kolom lainnya adalah numerik (int64, float64) dan bisa langsung digunakan setelah pembersihan.\n",
    "\n",
    "\n",
    "\n",
    "*   Kolom seperti bidikmisi (1278 dari 3587 data terisi), Lulus Pilihan (744 terisi), serta IP Sem 1 dan IP Sem 2 memiliki banyak sekali nilai kosong. Ini mengonfirmasi bahwa kolom-kolom ini memerlukan penanganan khusus, baik dengan cara diisi (imputation) atau dihapus.\n",
    "\n",
    "*   Kolom Predikat Semester 1 dan Predikat Semester 2 sepenuhnya kosong (0 non-null) dan harus dihapus.\n",
    "\n",
    "\n",
    "\n",
    "\n",
    "\n",
    "\n"
   ]
  },
  {
   "cell_type": "markdown",
   "metadata": {
    "id": "16Zy2Zw3N97u"
   },
   "source": [
    "### Pengecekan Nilai Kosong"
   ]
  },
  {
   "cell_type": "markdown",
   "metadata": {
    "id": "dI0OtGP2OFJ_"
   },
   "source": [
    "Menghitung jumlah nilai kosong (NaN) pada setiap kolom untuk merencanakan strategi imputasi atau penghapusan."
   ]
  },
  {
   "cell_type": "code",
   "execution_count": 4,
   "metadata": {
    "colab": {
     "base_uri": "https://localhost:8080/",
     "height": 899
    },
    "id": "dXnnLzGwOHde",
    "outputId": "ac4d1867-5f5a-48af-d70c-8288b54bb23a"
   },
   "outputs": [
    {
     "data": {
      "text/html": [
       "<div>\n",
       "<style scoped>\n",
       "    .dataframe tbody tr th:only-of-type {\n",
       "        vertical-align: middle;\n",
       "    }\n",
       "\n",
       "    .dataframe tbody tr th {\n",
       "        vertical-align: top;\n",
       "    }\n",
       "\n",
       "    .dataframe thead th {\n",
       "        text-align: right;\n",
       "    }\n",
       "</style>\n",
       "<table border=\"1\" class=\"dataframe\">\n",
       "  <thead>\n",
       "    <tr style=\"text-align: right;\">\n",
       "      <th></th>\n",
       "      <th>0</th>\n",
       "    </tr>\n",
       "  </thead>\n",
       "  <tbody>\n",
       "    <tr>\n",
       "      <th>nomor_pendaftaran</th>\n",
       "      <td>0</td>\n",
       "    </tr>\n",
       "    <tr>\n",
       "      <th>JK</th>\n",
       "      <td>0</td>\n",
       "    </tr>\n",
       "    <tr>\n",
       "      <th>bidikmisi</th>\n",
       "      <td>2309</td>\n",
       "    </tr>\n",
       "    <tr>\n",
       "      <th>Sekolah</th>\n",
       "      <td>0</td>\n",
       "    </tr>\n",
       "    <tr>\n",
       "      <th>Kabupaten</th>\n",
       "      <td>0</td>\n",
       "    </tr>\n",
       "    <tr>\n",
       "      <th>Provinsi</th>\n",
       "      <td>0</td>\n",
       "    </tr>\n",
       "    <tr>\n",
       "      <th>Pilihan 1</th>\n",
       "      <td>0</td>\n",
       "    </tr>\n",
       "    <tr>\n",
       "      <th>Pilihan 2</th>\n",
       "      <td>618</td>\n",
       "    </tr>\n",
       "    <tr>\n",
       "      <th>Ranking Sekolah</th>\n",
       "      <td>0</td>\n",
       "    </tr>\n",
       "    <tr>\n",
       "      <th>Nilai Mapel UN</th>\n",
       "      <td>0</td>\n",
       "    </tr>\n",
       "    <tr>\n",
       "      <th>Lulus pada Prodi</th>\n",
       "      <td>2843</td>\n",
       "    </tr>\n",
       "    <tr>\n",
       "      <th>Lulus Pilihan</th>\n",
       "      <td>2843</td>\n",
       "    </tr>\n",
       "    <tr>\n",
       "      <th>X1</th>\n",
       "      <td>0</td>\n",
       "    </tr>\n",
       "    <tr>\n",
       "      <th>X2</th>\n",
       "      <td>0</td>\n",
       "    </tr>\n",
       "    <tr>\n",
       "      <th>X3</th>\n",
       "      <td>0</td>\n",
       "    </tr>\n",
       "    <tr>\n",
       "      <th>X4</th>\n",
       "      <td>0</td>\n",
       "    </tr>\n",
       "    <tr>\n",
       "      <th>X5</th>\n",
       "      <td>0</td>\n",
       "    </tr>\n",
       "    <tr>\n",
       "      <th>X6</th>\n",
       "      <td>0</td>\n",
       "    </tr>\n",
       "    <tr>\n",
       "      <th>X7</th>\n",
       "      <td>0</td>\n",
       "    </tr>\n",
       "    <tr>\n",
       "      <th>X8</th>\n",
       "      <td>0</td>\n",
       "    </tr>\n",
       "    <tr>\n",
       "      <th>X9</th>\n",
       "      <td>0</td>\n",
       "    </tr>\n",
       "    <tr>\n",
       "      <th>XT</th>\n",
       "      <td>0</td>\n",
       "    </tr>\n",
       "    <tr>\n",
       "      <th>IP Sem 1</th>\n",
       "      <td>2993</td>\n",
       "    </tr>\n",
       "    <tr>\n",
       "      <th>IP Sem 2</th>\n",
       "      <td>3028</td>\n",
       "    </tr>\n",
       "    <tr>\n",
       "      <th>Predikat Semester 1</th>\n",
       "      <td>3587</td>\n",
       "    </tr>\n",
       "    <tr>\n",
       "      <th>Predikat Semester 2</th>\n",
       "      <td>3587</td>\n",
       "    </tr>\n",
       "  </tbody>\n",
       "</table>\n",
       "</div><br><label><b>dtype:</b> int64</label>"
      ],
      "text/plain": [
       "nomor_pendaftaran         0\n",
       "JK                        0\n",
       "bidikmisi              2309\n",
       "Sekolah                   0\n",
       "Kabupaten                 0\n",
       "Provinsi                  0\n",
       "Pilihan 1                 0\n",
       "Pilihan 2               618\n",
       "Ranking Sekolah           0\n",
       "Nilai Mapel UN            0\n",
       "Lulus pada Prodi       2843\n",
       "Lulus Pilihan          2843\n",
       "X1                        0\n",
       "X2                        0\n",
       "X3                        0\n",
       "X4                        0\n",
       "X5                        0\n",
       "X6                        0\n",
       "X7                        0\n",
       "X8                        0\n",
       "X9                        0\n",
       "XT                        0\n",
       "IP Sem 1               2993\n",
       "IP Sem 2               3028\n",
       "Predikat Semester 1    3587\n",
       "Predikat Semester 2    3587\n",
       "dtype: int64"
      ]
     },
     "execution_count": 4,
     "metadata": {},
     "output_type": "execute_result"
    }
   ],
   "source": [
    "df.isna().sum()\n"
   ]
  },
  {
   "cell_type": "markdown",
   "metadata": {
    "id": "8Mitntl1OVE2"
   },
   "source": [
    "Output ini merinci jumlah nilai kosong (NaN) untuk setiap kolom dalam dataset:\n",
    "\n",
    "\n",
    "*   bidikmisi (2309 kosong): Mayoritas data tidak memiliki informasi mengenai status bidikmisi. Ini perlu diisi, kemungkinan dengan asumsi \"Tidak\".\n",
    "*   Pilihan 2 (618 kosong): Sejumlah siswa tidak mengisi pilihan kedua, yang merupakan informasi penting.\n",
    "*   Lulus pada Prodi & Lulus Pilihan (2843 kosong): Ini adalah kolom target. Jumlah nilai kosong yang sama persis (2843) mengindikasikan bahwa baris-baris ini adalah untuk siswa yang tidak lulus pada seleksi.\n",
    "*   IP Sem 1 & IP Sem 2 (2993 & 3028 kosong): Sebagian besar data IP semester kosong. Ini menandakan data ini tidak dapat diandalkan untuk prediksi dan kemungkinan besar harus dibuang.\n",
    "*   Predikat Semester 1 & 2 (3587 kosong): Seluruh kolom ini kosong, sehingga harus dihapus.\n",
    "\n",
    "Analisis ini memperkuat keputusan untuk menghapus kolom-kolom terkait hasil studi (IP dan Predikat) dan melakukan imputasi (pengisian nilai) pada kolom bidikmisi, Pilihan 2, dan kolom target Lulus Pilihan.\n",
    "\n",
    "\n",
    "\n",
    "\n",
    "\n",
    "\n"
   ]
  },
  {
   "cell_type": "markdown",
   "metadata": {
    "id": "yG3HXFl6PIfl"
   },
   "source": [
    "### Analisis Variabel Target\n"
   ]
  },
  {
   "cell_type": "markdown",
   "metadata": {
    "id": "dZhDxOuZPQol"
   },
   "source": [
    "pada kolom Lulus Pilihan, yang merupakan variabel target. untuk memahami distribusi atau sebaran nilai pada kolom ini. Tujuannya adalah untuk melihat:\n",
    "\n",
    "\n",
    "*   Ada kategori apa saja di dalam kolom ini (misalnya: lulus di pilihan 1, lulus di pilihan 2, atau tidak lulus).\n",
    "\n",
    "*   Berapa jumlah mahasiswa untuk setiap kategori.\n",
    "\n",
    "Informasi ini krusial karena jika jumlah data di satu kategori jauh lebih banyak daripada yang lain (disebut imbalanced data), ini bisa memengaruhi bagaimana model belajar nantinya. pada kasus ini saya menggunakan value_counts(dropna=False) agar nilai kosong (NaN), yang dalam konteks ini kemungkinan besar berarti \"tidak lulus\", juga ikut terhitung"
   ]
  },
  {
   "cell_type": "code",
   "execution_count": 5,
   "metadata": {
    "colab": {
     "base_uri": "https://localhost:8080/"
    },
    "id": "jC-YN_O9LTAI",
    "outputId": "bfc370ef-fd96-42c1-9e29-15242499b848"
   },
   "outputs": [
    {
     "name": "stdout",
     "output_type": "stream",
     "text": [
      "Distribusi Kelas pada Variabel Target:\n",
      "Lulus Pilihan\n",
      "NaN      2843\n",
      "pil_1     696\n",
      "pil_2      48\n",
      "Name: count, dtype: int64\n"
     ]
    }
   ],
   "source": [
    "# Menganalisis distribusi nilai pada kolom 'Lulus Pilihan'\n",
    "# dropna=False digunakan agar nilai NaN (yang tidak lulus) juga dihitung\n",
    "distribusi_target = df['Lulus Pilihan'].value_counts(dropna=False)\n",
    "\n",
    "print(\"Distribusi Kelas pada Variabel Target:\")\n",
    "print(distribusi_target)"
   ]
  },
  {
   "cell_type": "markdown",
   "metadata": {
    "id": "70Ik_iJMR_ZH"
   },
   "source": [
    "Output tersebut menunjukkan distribusi data pada kolom Lulus Pilihan:\n",
    "*   NaN (2843 data): Terdapat 2.843 baris data yang tidak memiliki nilai (kosong) pada kolom Lulus Pilihan. Dalam konteks dataset ini, nilai NaN merepresentasikan mahasiswa yang tidak lulus pada pilihan pertama maupun kedua. Ini adalah kelas mayoritas.\n",
    "*   pil_1 (696 data): Terdapat 696 mahasiswa yang dinyatakan lulus pada pilihan pertama mereka.\n",
    "*   pil_2 (48 data): Terdapat 48 mahasiswa yang dinyatakan lulus pada pilihan kedua mereka. Ini adalah kelas minoritas.\n",
    "\n",
    "Data ini sangat tidak seimbang (imbalanced). Jumlah mahasiswa yang tidak lulus jauh lebih dominan dibandingkan yang lulus. Kondisi ini perlu menjadi perhatian khusus karena dapat menyebabkan model cenderung lebih baik dalam memprediksi kelas mayoritas (tidak lulus) dan buruk dalam memprediksi kelas minoritas (lulus pilihan 2).\n",
    "\n"
   ]
  },
  {
   "cell_type": "markdown",
   "metadata": {
    "id": "9XbJSR0sZOJI"
   },
   "source": [
    "### Data Analisis"
   ]
  },
  {
   "cell_type": "markdown",
   "metadata": {
    "id": "mHbFOEmNZb0t"
   },
   "source": [
    "#### Distribusi Nilai Akademik Pendaftar"
   ]
  },
  {
   "cell_type": "markdown",
   "metadata": {
    "id": "pqjRuSeNZeF1"
   },
   "source": [
    "Visualisasi ini bertujuan untuk memahami sebaran nilai akademik kunci dari seluruh calon mahasiswa, yaitu Nilai Mapel UN dan Ranking Sekolah.\n",
    "\n",
    "Dengan melihat histogram, dapat diidentifikasi apakah mayoritas pendaftar memiliki nilai UN yang tinggi atau rendah, serta apakah mereka cenderung berasal dari sekolah dengan ranking unggulan atau tidak. Ini memberikan gambaran umum mengenai kualitas akademik dari kohort pendaftar.\n",
    "\n"
   ]
  },
  {
   "cell_type": "code",
   "execution_count": 8,
   "metadata": {
    "colab": {
     "base_uri": "https://localhost:8080/",
     "height": 389
    },
    "id": "lNYBr2uyZh1u",
    "outputId": "a81bfdb8-2ec7-4078-d72b-632e8ec02daf"
   },
   "outputs": [
    {
     "name": "stdout",
     "output_type": "stream",
     "text": [
      "Grafik 'distribusi_akademik.png' berhasil disimpan.\n"
     ]
    },
    {
     "data": {
      "image/png": "[encoded data removed]",
      "text/plain": [
       "<Figure size 1400x600 with 2 Axes>"
      ]
     },
     "metadata": {},
     "output_type": "display_data"
    }
   ],
   "source": [
    "import pandas as pd\n",
    "import matplotlib.pyplot as plt\n",
    "import seaborn as sns\n",
    "\n",
    "# Memuat ulang data asli untuk EDA\n",
    "file_path_analisis = 'https://raw.githubusercontent.com/adamzakys/SourceDataset/refs/heads/main/Dataset_prediksi_kelulusan.csv'\n",
    "df_eda = pd.read_csv(file_path_analisis)\n",
    "\n",
    "# Membuat subplot\n",
    "fig, axes = plt.subplots(1, 2, figsize=(14, 6))\n",
    "sns.set_style(\"whitegrid\")\n",
    "\n",
    "# Histogram untuk Nilai Mapel UN\n",
    "sns.histplot(df_eda['Nilai Mapel UN'], bins=30, kde=True, ax=axes[0], color='skyblue')\n",
    "axes[0].set_title('Distribusi Nilai Mapel UN', fontsize=14)\n",
    "axes[0].set_xlabel('Nilai Mapel UN')\n",
    "axes[0].set_ylabel('Jumlah Pendaftar')\n",
    "\n",
    "# Histogram untuk Ranking Sekolah\n",
    "sns.histplot(df_eda['Ranking Sekolah'], bins=30, kde=True, ax=axes[1], color='salmon')\n",
    "axes[1].set_title('Distribusi Ranking Sekolah', fontsize=14)\n",
    "axes[1].set_xlabel('Ranking Sekolah')\n",
    "axes[1].set_ylabel('Jumlah Pendaftar')\n",
    "\n",
    "plt.tight_layout()\n",
    "plt.savefig('distribusi_akademik.png')\n",
    "\n",
    "print(\"Grafik 'distribusi_akademik.png' berhasil disimpan.\")"
   ]
  },
  {
   "cell_type": "markdown",
   "metadata": {
    "id": "DtiqH1wjZoAW"
   },
   "source": [
    "#### Perbandingan Nilai Akademik Berdasarkan Status Kelulusan"
   ]
  },
  {
   "cell_type": "markdown",
   "metadata": {
    "id": "i927L7cyZpFx"
   },
   "source": [
    "Visualisasi ini membandingkan sebaran Nilai Mapel UN antara mahasiswa yang lulus (pilihan 1 & 2) dan yang tidak lulus.\n",
    "\n",
    "Box plot ini secara visual akan menunjukkan apakah terdapat perbedaan signifikan antara nilai UN pendaftar yang diterima dan yang tidak. Jika kotak untuk kelompok \"Lulus\" berada jauh lebih tinggi daripada kelompok \"Tidak Lulus\", ini menjadi bukti kuat bahwa nilai UN adalah faktor prediktor yang penting.\n",
    "\n"
   ]
  },
  {
   "cell_type": "code",
   "execution_count": 9,
   "metadata": {
    "colab": {
     "base_uri": "https://localhost:8080/",
     "height": 882
    },
    "id": "eNVua-cwZrYO",
    "outputId": "b2f43054-18d2-4132-f243-c686611cb8b7"
   },
   "outputs": [
    {
     "name": "stderr",
     "output_type": "stream",
     "text": [
      "/tmp/ipython-input-2146983565.py:2: FutureWarning: A value is trying to be set on a copy of a DataFrame or Series through chained assignment using an inplace method.\n",
      "The behavior will change in pandas 3.0. This inplace method will never work because the intermediate object on which we are setting values always behaves as a copy.\n",
      "\n",
      "For example, when doing 'df[col].method(value, inplace=True)', try using 'df.method({col: value}, inplace=True)' or df[col] = df[col].method(value) instead, to perform the operation inplace on the original object.\n",
      "\n",
      "\n",
      "  df_eda['Lulus Pilihan'].fillna('Tidak Lulus', inplace=True)\n",
      "/tmp/ipython-input-2146983565.py:7: FutureWarning: \n",
      "\n",
      "Passing `palette` without assigning `hue` is deprecated and will be removed in v0.14.0. Assign the `x` variable to `hue` and set `legend=False` for the same effect.\n",
      "\n",
      "  sns.boxplot(x='Lulus Pilihan', y='Nilai Mapel UN', data=df_eda, palette='viridis', order=['Tidak Lulus', 'Lulus Pilihan 1', 'Lulus Pilihan 2'])\n"
     ]
    },
    {
     "name": "stdout",
     "output_type": "stream",
     "text": [
      "Grafik 'perbandingan_nilai_kelulusan.png' berhasil disimpan.\n"
     ]
    },
    {
     "data": {
      "image/png": "[encoded data removed]",
      "text/plain": [
       "<Figure size 1000x700 with 1 Axes>"
      ]
     },
     "metadata": {},
     "output_type": "display_data"
    }
   ],
   "source": [
    "# Melakukan rekayasa variabel target untuk visualisasi\n",
    "df_eda['Lulus Pilihan'].fillna('Tidak Lulus', inplace=True)\n",
    "df_eda['Lulus Pilihan'] = df_eda['Lulus Pilihan'].replace({'pil_1': 'Lulus Pilihan 1', 'pil_2': 'Lulus Pilihan 2'})\n",
    "\n",
    "\n",
    "plt.figure(figsize=(10, 7))\n",
    "sns.boxplot(x='Lulus Pilihan', y='Nilai Mapel UN', data=df_eda, palette='viridis', order=['Tidak Lulus', 'Lulus Pilihan 1', 'Lulus Pilihan 2'])\n",
    "plt.title('Perbandingan Nilai Mapel UN Berdasarkan Status Kelulusan', fontsize=14)\n",
    "plt.xlabel('Status Kelulusan')\n",
    "plt.ylabel('Nilai Mapel UN')\n",
    "plt.savefig('perbandingan_nilai_kelulusan.png')\n",
    "\n",
    "print(\"Grafik 'perbandingan_nilai_kelulusan.png' berhasil disimpan.\")"
   ]
  },
  {
   "cell_type": "markdown",
   "metadata": {
    "id": "PXbSuvx6agDY"
   },
   "source": [
    "#### Asal Provinsi dan Program Studi Paling Populer"
   ]
  },
  {
   "cell_type": "markdown",
   "metadata": {
    "id": "L9Fspatdag9B"
   },
   "source": [
    "Visualisasi ini menampilkan 10 provinsi dengan pendaftar terbanyak dan 10 program studi yang paling banyak dipilih sebagai pilihan pertama.\n",
    "\n",
    "Grafik ini memberikan wawasan demografis dan minat pendaftar. Informasi ini dapat digunakan untuk memahami dari mana saja basis pendaftar terkuat berasal dan program studi apa yang memiliki tingkat persaingan paling tinggi berdasarkan jumlah peminat.\n",
    "\n"
   ]
  },
  {
   "cell_type": "code",
   "execution_count": 11,
   "metadata": {
    "colab": {
     "base_uri": "https://localhost:8080/",
     "height": 1000
    },
    "id": "vOq966NhaizG",
    "outputId": "7e4e7db5-16a6-4a2d-e67b-893ad9a3ea8a"
   },
   "outputs": [
    {
     "name": "stderr",
     "output_type": "stream",
     "text": [
      "/tmp/ipython-input-1864554879.py:5: FutureWarning: \n",
      "\n",
      "Passing `palette` without assigning `hue` is deprecated and will be removed in v0.14.0. Assign the `y` variable to `hue` and set `legend=False` for the same effect.\n",
      "\n",
      "  sns.barplot(x=top_10_provinsi.values, y=top_10_provinsi.index, ax=axes[0], palette='plasma')\n",
      "/tmp/ipython-input-1864554879.py:12: FutureWarning: \n",
      "\n",
      "Passing `palette` without assigning `hue` is deprecated and will be removed in v0.14.0. Assign the `y` variable to `hue` and set `legend=False` for the same effect.\n",
      "\n",
      "  sns.barplot(x=top_10_prodi.values, y=top_10_prodi.index, ax=axes[1], palette='magma')\n"
     ]
    },
    {
     "name": "stdout",
     "output_type": "stream",
     "text": [
      "Grafik 'demografi_pilihan_pendaftar.png' berhasil disimpan.\n"
     ]
    },
    {
     "data": {
      "image/png": "[encoded data removed]",
      "text/plain": [
       "<Figure size 1200x1400 with 2 Axes>"
      ]
     },
     "metadata": {},
     "output_type": "display_data"
    }
   ],
   "source": [
    "fig, axes = plt.subplots(2, 1, figsize=(12, 14))\n",
    "\n",
    "# 10 Provinsi Teratas\n",
    "top_10_provinsi = df_eda['Provinsi'].value_counts().head(10)\n",
    "sns.barplot(x=top_10_provinsi.values, y=top_10_provinsi.index, ax=axes[0], palette='plasma')\n",
    "axes[0].set_title('10 Provinsi dengan Pendaftar Terbanyak pada data', fontsize=14)\n",
    "axes[0].set_xlabel('Jumlah Pendaftar')\n",
    "axes[0].set_ylabel('Provinsi')\n",
    "\n",
    "# 10 Program Studi Pilihan 1 Teratas\n",
    "top_10_prodi = df_eda['Pilihan 1'].value_counts().head(10)\n",
    "sns.barplot(x=top_10_prodi.values, y=top_10_prodi.index, ax=axes[1], palette='magma')\n",
    "axes[1].set_title('10 Program Studi Pilihan 1 Terpopuler', fontsize=14)\n",
    "axes[1].set_xlabel('Jumlah Pendaftar')\n",
    "axes[1].set_ylabel('Program Studi')\n",
    "\n",
    "plt.tight_layout()\n",
    "plt.savefig('demografi_pilihan_pendaftar.png')\n",
    "\n",
    "print(\"Grafik 'demografi_pilihan_pendaftar.png' berhasil disimpan.\")"
   ]
  },
  {
   "cell_type": "markdown",
   "metadata": {
    "id": "A45VHCty1Fgg"
   },
   "source": [
    "## Preprocessing dan Pembersihan Data"
   ]
  },
  {
   "cell_type": "markdown",
   "metadata": {
    "id": "bzYY5g2w1Ktf"
   },
   "source": [
    "Model machine learning tidak bisa memproses data teks seperti 'pil_1' atau nilai kosong (NaN). Oleh karena itu, kolom target Lulus Pilihan perlu diubah menjadi format numerik yang bisa dipahami oleh algoritma. Proses ini terdiri dari dua tahap:\n",
    "1.   Mengisi Nilai Kosong: Nilai NaN, yang sebelumnya diidentifikasi sebagai mahasiswa \"tidak lulus\", akan diisi terlebih dahulu. Untuk kejelasan, nilai ini akan diubah menjadi string 'tidak_lulus'.\n",
    "2.   Konversi ke Numerik (Mapping): Setelah semua baris memiliki nilai, kategori-kategori tersebut akan dipetakan ke angka. Konvensi yang umum adalah:\n",
    "\n",
    "*   'tidak_lulus' -> 0\n",
    "*   'pil_1' -> 1\n",
    "*   'pil_2' -> 2\n",
    "\n",
    "Dengan begitu, variabel target menjadi sepenuhnya numerik dan siap untuk digunakan dalam pemodelan\n",
    "\n",
    "\n",
    "\n",
    "\n",
    "\n"
   ]
  },
  {
   "cell_type": "code",
   "execution_count": 7,
   "metadata": {
    "colab": {
     "base_uri": "https://localhost:8080/"
    },
    "id": "R3hlzZDA1lq3",
    "outputId": "afd4fa5b-2a96-4113-d3a7-68e0849cfa66"
   },
   "outputs": [
    {
     "name": "stdout",
     "output_type": "stream",
     "text": [
      "Distribusi Variabel Target Setelah Rekayasa (Revisi):\n",
      "Lulus Pilihan\n",
      "0    2843\n",
      "1     696\n",
      "2      48\n",
      "Name: count, dtype: int64\n"
     ]
    }
   ],
   "source": [
    "# Mengisi nilai NaN dengan 'tidak_lulus' (sintaks yang disarankan)\n",
    "df['Lulus Pilihan'] = df['Lulus Pilihan'].fillna('tidak_lulus')\n",
    "\n",
    "# Membuat pemetaan (mapping) dari teks ke angka\n",
    "mapping_lulus = {\n",
    "    'tidak_lulus': 0,\n",
    "    'pil_1': 1,\n",
    "    'pil_2': 2\n",
    "}\n",
    "\n",
    "# Mengaplikasikan mapping ke kolom 'Lulus Pilihan'\n",
    "df['Lulus Pilihan'] = df['Lulus Pilihan'].map(mapping_lulus)\n",
    "\n",
    "# Menampilkan hasil setelah rekayasa untuk verifikasi\n",
    "print(\"Distribusi Variabel Target Setelah Rekayasa (Revisi):\")\n",
    "print(df['Lulus Pilihan'].value_counts())"
   ]
  },
  {
   "cell_type": "markdown",
   "metadata": {
    "id": "6Va9g_062PvA"
   },
   "source": [
    "Kolom target Lulus Pilihan telah berhasil di-encode secara numerik. Kategori string ('tidak_lulus', 'pil_1', 'pil_2') telah dipetakan ke tipe data integer (0, 1, 2) sehingga siap digunakan untuk pemodelan. Distribusi kelas tetap sama: 2843 sampel untuk kelas 0, 696 untuk kelas 1, dan 48 untuk kelas 2.\n",
    "\n"
   ]
  },
  {
   "cell_type": "markdown",
   "metadata": {
    "id": "lwpmnl6s3Ejf"
   },
   "source": [
    "### Seleksi Fitur (Feature Selection)\n"
   ]
  },
  {
   "cell_type": "markdown",
   "metadata": {
    "id": "FT_cuWaF3FtA"
   },
   "source": [
    "Pada tahap ini, dilakukan pemilihan fitur (kolom) yang akan digunakan untuk melatih model. Tidak semua kolom dalam dataset relevan atau pantas untuk digunakan. Beberapa kolom perlu dibuang untuk alasan berikut:\n",
    "\n",
    "\n",
    "\n",
    "*   Tidak Relevan: Kolom seperti nomor_pendaftaran adalah unik untuk setiap mahasiswa dan tidak memiliki pola yang bisa dipelajari oleh model untuk prediksi.\n",
    "\n",
    "\n",
    "*   Kebocoran Data (Data Leakage): Kolom seperti Lulus pada Prodi, IP Sem 1, IP Sem 2, dan predikat semester adalah informasi yang baru ada setelah mahasiswa diterima dan mulai berkuliah. Menggunakan fitur ini sama saja dengan memberikan \"contekan\" pada model, karena tujuannya adalah memprediksi kelulusan sebelum mereka masuk.\n",
    "\n",
    "\n",
    "\n",
    "Oleh karena itu, kolom-kolom tersebut akan dihapus dari dataset.\n",
    "\n"
   ]
  },
  {
   "cell_type": "code",
   "execution_count": 8,
   "metadata": {
    "colab": {
     "base_uri": "https://localhost:8080/",
     "height": 400
    },
    "id": "EsxVFfcM3QMf",
    "outputId": "7fe7fe70-0ded-4db3-ec38-263ef3d616cc"
   },
   "outputs": [
    {
     "name": "stdout",
     "output_type": "stream",
     "text": [
      "Data setelah beberapa kolom dihapus:\n"
     ]
    },
    {
     "data": {
      "application/vnd.google.colaboratory.intrinsic+json": {
       "summary": "{\n  \"name\": \"df\",\n  \"rows\": 3587,\n  \"fields\": [\n    {\n      \"column\": \"JK\",\n      \"properties\": {\n        \"dtype\": \"category\",\n        \"num_unique_values\": 2,\n        \"samples\": [\n          \"L\",\n          \"P\"\n        ],\n        \"semantic_type\": \"\",\n        \"description\": \"\"\n      }\n    },\n    {\n      \"column\": \"bidikmisi\",\n      \"properties\": {\n        \"dtype\": \"category\",\n        \"num_unique_values\": 1,\n        \"samples\": [\n          \"Bidik Misi\"\n        ],\n        \"semantic_type\": \"\",\n        \"description\": \"\"\n      }\n    },\n    {\n      \"column\": \"Sekolah\",\n      \"properties\": {\n        \"dtype\": \"category\",\n        \"num_unique_values\": 812,\n        \"samples\": [\n          \"SMAS PGRI SALAWU\"\n        ],\n        \"semantic_type\": \"\",\n        \"description\": \"\"\n      }\n    },\n    {\n      \"column\": \"Kabupaten\",\n      \"properties\": {\n        \"dtype\": \"category\",\n        \"num_unique_values\": 95,\n        \"samples\": [\n          \"Kab Karo\"\n        ],\n        \"semantic_type\": \"\",\n        \"description\": \"\"\n      }\n    },\n    {\n      \"column\": \"Provinsi\",\n      \"properties\": {\n        \"dtype\": \"category\",\n        \"num_unique_values\": 22,\n        \"samples\": [\n          \"Jawa Barat\"\n        ],\n        \"semantic_type\": \"\",\n        \"description\": \"\"\n      }\n    },\n    {\n      \"column\": \"Pilihan 1\",\n      \"properties\": {\n        \"dtype\": \"category\",\n        \"num_unique_values\": 28,\n        \"samples\": [\n          \"PENDIDIKAN EKONOMI\"\n        ],\n        \"semantic_type\": \"\",\n        \"description\": \"\"\n      }\n    },\n    {\n      \"column\": \"Pilihan 2\",\n      \"properties\": {\n        \"dtype\": \"category\",\n        \"num_unique_values\": 28,\n        \"samples\": [\n          \"AGROTEKNOLOGI \"\n        ],\n        \"semantic_type\": \"\",\n        \"description\": \"\"\n      }\n    },\n    {\n      \"column\": \"Ranking Sekolah\",\n      \"properties\": {\n        \"dtype\": \"number\",\n        \"std\": 74,\n        \"min\": 1,\n        \"max\": 416,\n        \"num_unique_values\": 272,\n        \"samples\": [\n          157\n        ],\n        \"semantic_type\": \"\",\n        \"description\": \"\"\n      }\n    },\n    {\n      \"column\": \"Nilai Mapel UN\",\n      \"properties\": {\n        \"dtype\": \"number\",\n        \"std\": 2.739039916028822,\n        \"min\": 73.7450980392156,\n        \"max\": 97.1018518518518,\n        \"num_unique_values\": 2882,\n        \"samples\": [\n          80.6351246105919\n        ],\n        \"semantic_type\": \"\",\n        \"description\": \"\"\n      }\n    },\n    {\n      \"column\": \"Lulus Pilihan\",\n      \"properties\": {\n        \"dtype\": \"number\",\n        \"std\": 0,\n        \"min\": 0,\n        \"max\": 2,\n        \"num_unique_values\": 3,\n        \"samples\": [\n          0\n        ],\n        \"semantic_type\": \"\",\n        \"description\": \"\"\n      }\n    },\n    {\n      \"column\": \"X1\",\n      \"properties\": {\n        \"dtype\": \"number\",\n        \"std\": 0.5339257029574804,\n        \"min\": 4.77485119047619,\n        \"max\": 12.133333333333333,\n        \"num_unique_values\": 1940,\n        \"samples\": [\n          10.020833333333334\n        ],\n        \"semantic_type\": \"\",\n        \"description\": \"\"\n      }\n    },\n    {\n      \"column\": \"X2\",\n      \"properties\": {\n        \"dtype\": \"number\",\n        \"std\": 0.5363763809308703,\n        \"min\": 4.84375,\n        \"max\": 12.137731481481476,\n        \"num_unique_values\": 2891,\n        \"samples\": [\n          10.079390576323988\n        ],\n        \"semantic_type\": \"\",\n        \"description\": \"\"\n      }\n    },\n    {\n      \"column\": \"X3\",\n      \"properties\": {\n        \"dtype\": \"number\",\n        \"std\": 0.018938496173979073,\n        \"min\": 1.0,\n        \"max\": 1.2,\n        \"num_unique_values\": 5,\n        \"samples\": [\n          1.025\n        ],\n        \"semantic_type\": \"\",\n        \"description\": \"\"\n      }\n    },\n    {\n      \"column\": \"X4\",\n      \"properties\": {\n        \"dtype\": \"number\",\n        \"std\": 0,\n        \"min\": 0,\n        \"max\": 0,\n        \"num_unique_values\": 1,\n        \"samples\": [\n          0\n        ],\n        \"semantic_type\": \"\",\n        \"description\": \"\"\n      }\n    },\n    {\n      \"column\": \"X5\",\n      \"properties\": {\n        \"dtype\": \"number\",\n        \"std\": 0.5363763809308703,\n        \"min\": 4.84375,\n        \"max\": 12.137731481481476,\n        \"num_unique_values\": 2891,\n        \"samples\": [\n          10.079390576323988\n        ],\n        \"semantic_type\": \"\",\n        \"description\": \"\"\n      }\n    },\n    {\n      \"column\": \"X6\",\n      \"properties\": {\n        \"dtype\": \"number\",\n        \"std\": 0.5363763809308703,\n        \"min\": 4.84375,\n        \"max\": 12.137731481481476,\n        \"num_unique_values\": 2891,\n        \"samples\": [\n          10.079390576323988\n        ],\n        \"semantic_type\": \"\",\n        \"description\": \"\"\n      }\n    },\n    {\n      \"column\": \"X7\",\n      \"properties\": {\n        \"dtype\": \"number\",\n        \"std\": 0.5363763809308703,\n        \"min\": 4.84375,\n        \"max\": 12.137731481481476,\n        \"num_unique_values\": 2891,\n        \"samples\": [\n          10.079390576323988\n        ],\n        \"semantic_type\": \"\",\n        \"description\": \"\"\n      }\n    },\n    {\n      \"column\": \"X8\",\n      \"properties\": {\n        \"dtype\": \"number\",\n        \"std\": 0.5363763809308703,\n        \"min\": 4.84375,\n        \"max\": 12.137731481481476,\n        \"num_unique_values\": 2891,\n        \"samples\": [\n          10.079390576323988\n        ],\n        \"semantic_type\": \"\",\n        \"description\": \"\"\n      }\n    },\n    {\n      \"column\": \"X9\",\n      \"properties\": {\n        \"dtype\": \"number\",\n        \"std\": 1.6322749005128672,\n        \"min\": 3.75,\n        \"max\": 11.25,\n        \"num_unique_values\": 11,\n        \"samples\": [\n          6.25\n        ],\n        \"semantic_type\": \"\",\n        \"description\": \"\"\n      }\n    },\n    {\n      \"column\": \"XT\",\n      \"properties\": {\n        \"dtype\": \"number\",\n        \"std\": 4.007305414789648,\n        \"min\": 34.68110119047619,\n        \"max\": 84.01068287037037,\n        \"num_unique_values\": 3582,\n        \"samples\": [\n          75.43427083333333\n        ],\n        \"semantic_type\": \"\",\n        \"description\": \"\"\n      }\n    }\n  ]\n}",
       "type": "dataframe",
       "variable_name": "df"
      },
      "text/html": [
       "\n",
       "  <div id=\"df-3bb87734-803c-4241-8ee8-6ad88f5e79a7\" class=\"colab-df-container\">\n",
       "    <div>\n",
       "<style scoped>\n",
       "    .dataframe tbody tr th:only-of-type {\n",
       "        vertical-align: middle;\n",
       "    }\n",
       "\n",
       "    .dataframe tbody tr th {\n",
       "        vertical-align: top;\n",
       "    }\n",
       "\n",
       "    .dataframe thead th {\n",
       "        text-align: right;\n",
       "    }\n",
       "</style>\n",
       "<table border=\"1\" class=\"dataframe\">\n",
       "  <thead>\n",
       "    <tr style=\"text-align: right;\">\n",
       "      <th></th>\n",
       "      <th>JK</th>\n",
       "      <th>bidikmisi</th>\n",
       "      <th>Sekolah</th>\n",
       "      <th>Kabupaten</th>\n",
       "      <th>Provinsi</th>\n",
       "      <th>Pilihan 1</th>\n",
       "      <th>Pilihan 2</th>\n",
       "      <th>Ranking Sekolah</th>\n",
       "      <th>Nilai Mapel UN</th>\n",
       "      <th>Lulus Pilihan</th>\n",
       "      <th>X1</th>\n",
       "      <th>X2</th>\n",
       "      <th>X3</th>\n",
       "      <th>X4</th>\n",
       "      <th>X5</th>\n",
       "      <th>X6</th>\n",
       "      <th>X7</th>\n",
       "      <th>X8</th>\n",
       "      <th>X9</th>\n",
       "      <th>XT</th>\n",
       "    </tr>\n",
       "  </thead>\n",
       "  <tbody>\n",
       "    <tr>\n",
       "      <th>0</th>\n",
       "      <td>P</td>\n",
       "      <td>NaN</td>\n",
       "      <td>SMKN 1 TAMBUN SELATAN</td>\n",
       "      <td>Kab Bekasi</td>\n",
       "      <td>Jawa Barat</td>\n",
       "      <td>TEKNIK INFORMATIKA</td>\n",
       "      <td>MANAJEMEN</td>\n",
       "      <td>37</td>\n",
       "      <td>82.745854</td>\n",
       "      <td>0</td>\n",
       "      <td>10.308333</td>\n",
       "      <td>10.343232</td>\n",
       "      <td>1.0</td>\n",
       "      <td>0</td>\n",
       "      <td>10.343232</td>\n",
       "      <td>10.343232</td>\n",
       "      <td>10.343232</td>\n",
       "      <td>10.343232</td>\n",
       "      <td>7.50</td>\n",
       "      <td>70.524492</td>\n",
       "    </tr>\n",
       "    <tr>\n",
       "      <th>1</th>\n",
       "      <td>L</td>\n",
       "      <td>NaN</td>\n",
       "      <td>MAN RANCAH</td>\n",
       "      <td>Kab Ciamis</td>\n",
       "      <td>Jawa Barat</td>\n",
       "      <td>ILMU POLITIK</td>\n",
       "      <td>PENDIDIKAN LUAR SEKOLAH</td>\n",
       "      <td>50</td>\n",
       "      <td>81.033269</td>\n",
       "      <td>2</td>\n",
       "      <td>10.064033</td>\n",
       "      <td>10.129159</td>\n",
       "      <td>1.0</td>\n",
       "      <td>0</td>\n",
       "      <td>10.129159</td>\n",
       "      <td>10.129159</td>\n",
       "      <td>10.129159</td>\n",
       "      <td>10.129159</td>\n",
       "      <td>10.00</td>\n",
       "      <td>71.709826</td>\n",
       "    </tr>\n",
       "    <tr>\n",
       "      <th>2</th>\n",
       "      <td>L</td>\n",
       "      <td>NaN</td>\n",
       "      <td>SMAN 6 TASIKMALAYA</td>\n",
       "      <td>Kota Tasikmalaya</td>\n",
       "      <td>Jawa Barat</td>\n",
       "      <td>PENDIDIKAN GEOGRAFI</td>\n",
       "      <td>PENDIDIKAN LUAR SEKOLAH</td>\n",
       "      <td>182</td>\n",
       "      <td>81.278846</td>\n",
       "      <td>1</td>\n",
       "      <td>10.355911</td>\n",
       "      <td>10.159856</td>\n",
       "      <td>1.0</td>\n",
       "      <td>0</td>\n",
       "      <td>10.159856</td>\n",
       "      <td>10.159856</td>\n",
       "      <td>10.159856</td>\n",
       "      <td>10.159856</td>\n",
       "      <td>11.25</td>\n",
       "      <td>73.405190</td>\n",
       "    </tr>\n",
       "    <tr>\n",
       "      <th>3</th>\n",
       "      <td>P</td>\n",
       "      <td>NaN</td>\n",
       "      <td>SMAN 5 CIREBON</td>\n",
       "      <td>Kota Cirebon</td>\n",
       "      <td>Jawa Barat</td>\n",
       "      <td>KESEHATAN MASYARAKAT</td>\n",
       "      <td>AGRIBISNIS</td>\n",
       "      <td>152</td>\n",
       "      <td>81.254098</td>\n",
       "      <td>0</td>\n",
       "      <td>10.243750</td>\n",
       "      <td>10.156762</td>\n",
       "      <td>1.0</td>\n",
       "      <td>0</td>\n",
       "      <td>10.156762</td>\n",
       "      <td>10.156762</td>\n",
       "      <td>10.156762</td>\n",
       "      <td>10.156762</td>\n",
       "      <td>7.50</td>\n",
       "      <td>68.527561</td>\n",
       "    </tr>\n",
       "    <tr>\n",
       "      <th>4</th>\n",
       "      <td>P</td>\n",
       "      <td>NaN</td>\n",
       "      <td>SMAN 8 TASIKMALAYA</td>\n",
       "      <td>Kota Tasikmalaya</td>\n",
       "      <td>Jawa Barat</td>\n",
       "      <td>KESEHATAN MASYARAKAT</td>\n",
       "      <td>MANAJEMEN</td>\n",
       "      <td>187</td>\n",
       "      <td>80.576923</td>\n",
       "      <td>0</td>\n",
       "      <td>10.169643</td>\n",
       "      <td>10.072115</td>\n",
       "      <td>1.0</td>\n",
       "      <td>0</td>\n",
       "      <td>10.072115</td>\n",
       "      <td>10.072115</td>\n",
       "      <td>10.072115</td>\n",
       "      <td>10.072115</td>\n",
       "      <td>11.25</td>\n",
       "      <td>72.780220</td>\n",
       "    </tr>\n",
       "  </tbody>\n",
       "</table>\n",
       "</div>\n",
       "    <div class=\"colab-df-buttons\">\n",
       "\n",
       "  <div class=\"colab-df-container\">\n",
       "    <button class=\"colab-df-convert\" onclick=\"convertToInteractive('df-3bb87734-803c-4241-8ee8-6ad88f5e79a7')\"\n",
       "            title=\"Convert this dataframe to an interactive table.\"\n",
       "            style=\"display:none;\">\n",
       "\n",
       "  <svg xmlns=\"http://www.w3.org/2000/svg\" height=\"24px\" viewBox=\"0 -960 960 960\">\n",
       "    <path d=\"M120-120v-720h720v720H120Zm60-500h600v-160H180v160Zm220 220h160v-160H400v160Zm0 220h160v-160H400v160ZM180-400h160v-160H180v160Zm440 0h160v-160H620v160ZM180-180h160v-160H180v160Zm440 0h160v-160H620v160Z\"/>\n",
       "  </svg>\n",
       "    </button>\n",
       "\n",
       "  <style>\n",
       "    .colab-df-container {\n",
       "      display:flex;\n",
       "      gap: 12px;\n",
       "    }\n",
       "\n",
       "    .colab-df-convert {\n",
       "      background-color: #E8F0FE;\n",
       "      border: none;\n",
       "      border-radius: 50%;\n",
       "      cursor: pointer;\n",
       "      display: none;\n",
       "      fill: #1967D2;\n",
       "      height: 32px;\n",
       "      padding: 0 0 0 0;\n",
       "      width: 32px;\n",
       "    }\n",
       "\n",
       "    .colab-df-convert:hover {\n",
       "      background-color: #E2EBFA;\n",
       "      box-shadow: 0px 1px 2px rgba(60, 64, 67, 0.3), 0px 1px 3px 1px rgba(60, 64, 67, 0.15);\n",
       "      fill: #174EA6;\n",
       "    }\n",
       "\n",
       "    .colab-df-buttons div {\n",
       "      margin-bottom: 4px;\n",
       "    }\n",
       "\n",
       "    [theme=dark] .colab-df-convert {\n",
       "      background-color: #3B4455;\n",
       "      fill: #D2E3FC;\n",
       "    }\n",
       "\n",
       "    [theme=dark] .colab-df-convert:hover {\n",
       "      background-color: #434B5C;\n",
       "      box-shadow: 0px 1px 3px 1px rgba(0, 0, 0, 0.15);\n",
       "      filter: drop-shadow(0px 1px 2px rgba(0, 0, 0, 0.3));\n",
       "      fill: #FFFFFF;\n",
       "    }\n",
       "  </style>\n",
       "\n",
       "    <script>\n",
       "      const buttonEl =\n",
       "        document.querySelector('#df-3bb87734-803c-4241-8ee8-6ad88f5e79a7 button.colab-df-convert');\n",
       "      buttonEl.style.display =\n",
       "        google.colab.kernel.accessAllowed ? 'block' : 'none';\n",
       "\n",
       "      async function convertToInteractive(key) {\n",
       "        const element = document.querySelector('#df-3bb87734-803c-4241-8ee8-6ad88f5e79a7');\n",
       "        const dataTable =\n",
       "          await google.colab.kernel.invokeFunction('convertToInteractive',\n",
       "                                                    [key], {});\n",
       "        if (!dataTable) return;\n",
       "\n",
       "        const docLinkHtml = 'Like what you see? Visit the ' +\n",
       "          '<a target=\"_blank\" href=https://colab.research.google.com/notebooks/data_table.ipynb>data table notebook</a>'\n",
       "          + ' to learn more about interactive tables.';\n",
       "        element.innerHTML = '';\n",
       "        dataTable['output_type'] = 'display_data';\n",
       "        await google.colab.output.renderOutput(dataTable, element);\n",
       "        const docLink = document.createElement('div');\n",
       "        docLink.innerHTML = docLinkHtml;\n",
       "        element.appendChild(docLink);\n",
       "      }\n",
       "    </script>\n",
       "  </div>\n",
       "\n",
       "\n",
       "    <div id=\"df-1a0da192-57b3-4d08-a5d8-f99c4e062161\">\n",
       "      <button class=\"colab-df-quickchart\" onclick=\"quickchart('df-1a0da192-57b3-4d08-a5d8-f99c4e062161')\"\n",
       "                title=\"Suggest charts\"\n",
       "                style=\"display:none;\">\n",
       "\n",
       "<svg xmlns=\"http://www.w3.org/2000/svg\" height=\"24px\"viewBox=\"0 0 24 24\"\n",
       "     width=\"24px\">\n",
       "    <g>\n",
       "        <path d=\"M19 3H5c-1.1 0-2 .9-2 2v14c0 1.1.9 2 2 2h14c1.1 0 2-.9 2-2V5c0-1.1-.9-2-2-2zM9 17H7v-7h2v7zm4 0h-2V7h2v10zm4 0h-2v-4h2v4z\"/>\n",
       "    </g>\n",
       "</svg>\n",
       "      </button>\n",
       "\n",
       "<style>\n",
       "  .colab-df-quickchart {\n",
       "      --bg-color: #E8F0FE;\n",
       "      --fill-color: #1967D2;\n",
       "      --hover-bg-color: #E2EBFA;\n",
       "      --hover-fill-color: #174EA6;\n",
       "      --disabled-fill-color: #AAA;\n",
       "      --disabled-bg-color: #DDD;\n",
       "  }\n",
       "\n",
       "  [theme=dark] .colab-df-quickchart {\n",
       "      --bg-color: #3B4455;\n",
       "      --fill-color: #D2E3FC;\n",
       "      --hover-bg-color: #434B5C;\n",
       "      --hover-fill-color: #FFFFFF;\n",
       "      --disabled-bg-color: #3B4455;\n",
       "      --disabled-fill-color: #666;\n",
       "  }\n",
       "\n",
       "  .colab-df-quickchart {\n",
       "    background-color: var(--bg-color);\n",
       "    border: none;\n",
       "    border-radius: 50%;\n",
       "    cursor: pointer;\n",
       "    display: none;\n",
       "    fill: var(--fill-color);\n",
       "    height: 32px;\n",
       "    padding: 0;\n",
       "    width: 32px;\n",
       "  }\n",
       "\n",
       "  .colab-df-quickchart:hover {\n",
       "    background-color: var(--hover-bg-color);\n",
       "    box-shadow: 0 1px 2px rgba(60, 64, 67, 0.3), 0 1px 3px 1px rgba(60, 64, 67, 0.15);\n",
       "    fill: var(--button-hover-fill-color);\n",
       "  }\n",
       "\n",
       "  .colab-df-quickchart-complete:disabled,\n",
       "  .colab-df-quickchart-complete:disabled:hover {\n",
       "    background-color: var(--disabled-bg-color);\n",
       "    fill: var(--disabled-fill-color);\n",
       "    box-shadow: none;\n",
       "  }\n",
       "\n",
       "  .colab-df-spinner {\n",
       "    border: 2px solid var(--fill-color);\n",
       "    border-color: transparent;\n",
       "    border-bottom-color: var(--fill-color);\n",
       "    animation:\n",
       "      spin 1s steps(1) infinite;\n",
       "  }\n",
       "\n",
       "  @keyframes spin {\n",
       "    0% {\n",
       "      border-color: transparent;\n",
       "      border-bottom-color: var(--fill-color);\n",
       "      border-left-color: var(--fill-color);\n",
       "    }\n",
       "    20% {\n",
       "      border-color: transparent;\n",
       "      border-left-color: var(--fill-color);\n",
       "      border-top-color: var(--fill-color);\n",
       "    }\n",
       "    30% {\n",
       "      border-color: transparent;\n",
       "      border-left-color: var(--fill-color);\n",
       "      border-top-color: var(--fill-color);\n",
       "      border-right-color: var(--fill-color);\n",
       "    }\n",
       "    40% {\n",
       "      border-color: transparent;\n",
       "      border-right-color: var(--fill-color);\n",
       "      border-top-color: var(--fill-color);\n",
       "    }\n",
       "    60% {\n",
       "      border-color: transparent;\n",
       "      border-right-color: var(--fill-color);\n",
       "    }\n",
       "    80% {\n",
       "      border-color: transparent;\n",
       "      border-right-color: var(--fill-color);\n",
       "      border-bottom-color: var(--fill-color);\n",
       "    }\n",
       "    90% {\n",
       "      border-color: transparent;\n",
       "      border-bottom-color: var(--fill-color);\n",
       "    }\n",
       "  }\n",
       "</style>\n",
       "\n",
       "      <script>\n",
       "        async function quickchart(key) {\n",
       "          const quickchartButtonEl =\n",
       "            document.querySelector('#' + key + ' button');\n",
       "          quickchartButtonEl.disabled = true;  // To prevent multiple clicks.\n",
       "          quickchartButtonEl.classList.add('colab-df-spinner');\n",
       "          try {\n",
       "            const charts = await google.colab.kernel.invokeFunction(\n",
       "                'suggestCharts', [key], {});\n",
       "          } catch (error) {\n",
       "            console.error('Error during call to suggestCharts:', error);\n",
       "          }\n",
       "          quickchartButtonEl.classList.remove('colab-df-spinner');\n",
       "          quickchartButtonEl.classList.add('colab-df-quickchart-complete');\n",
       "        }\n",
       "        (() => {\n",
       "          let quickchartButtonEl =\n",
       "            document.querySelector('#df-1a0da192-57b3-4d08-a5d8-f99c4e062161 button');\n",
       "          quickchartButtonEl.style.display =\n",
       "            google.colab.kernel.accessAllowed ? 'block' : 'none';\n",
       "        })();\n",
       "      </script>\n",
       "    </div>\n",
       "\n",
       "    </div>\n",
       "  </div>\n"
      ],
      "text/plain": [
       "  JK bidikmisi                Sekolah         Kabupaten    Provinsi  \\\n",
       "0  P       NaN  SMKN 1 TAMBUN SELATAN        Kab Bekasi  Jawa Barat   \n",
       "1  L       NaN             MAN RANCAH        Kab Ciamis  Jawa Barat   \n",
       "2  L       NaN     SMAN 6 TASIKMALAYA  Kota Tasikmalaya  Jawa Barat   \n",
       "3  P       NaN         SMAN 5 CIREBON      Kota Cirebon  Jawa Barat   \n",
       "4  P       NaN     SMAN 8 TASIKMALAYA  Kota Tasikmalaya  Jawa Barat   \n",
       "\n",
       "              Pilihan 1                Pilihan 2  Ranking Sekolah  \\\n",
       "0    TEKNIK INFORMATIKA                MANAJEMEN               37   \n",
       "1          ILMU POLITIK  PENDIDIKAN LUAR SEKOLAH               50   \n",
       "2   PENDIDIKAN GEOGRAFI  PENDIDIKAN LUAR SEKOLAH              182   \n",
       "3  KESEHATAN MASYARAKAT              AGRIBISNIS               152   \n",
       "4  KESEHATAN MASYARAKAT                MANAJEMEN              187   \n",
       "\n",
       "   Nilai Mapel UN  Lulus Pilihan         X1         X2   X3  X4         X5  \\\n",
       "0       82.745854              0  10.308333  10.343232  1.0   0  10.343232   \n",
       "1       81.033269              2  10.064033  10.129159  1.0   0  10.129159   \n",
       "2       81.278846              1  10.355911  10.159856  1.0   0  10.159856   \n",
       "3       81.254098              0  10.243750  10.156762  1.0   0  10.156762   \n",
       "4       80.576923              0  10.169643  10.072115  1.0   0  10.072115   \n",
       "\n",
       "          X6         X7         X8     X9         XT  \n",
       "0  10.343232  10.343232  10.343232   7.50  70.524492  \n",
       "1  10.129159  10.129159  10.129159  10.00  71.709826  \n",
       "2  10.159856  10.159856  10.159856  11.25  73.405190  \n",
       "3  10.156762  10.156762  10.156762   7.50  68.527561  \n",
       "4  10.072115  10.072115  10.072115  11.25  72.780220  "
      ]
     },
     "execution_count": 8,
     "metadata": {},
     "output_type": "execute_result"
    }
   ],
   "source": [
    "# Daftar kolom yang akan dihapus\n",
    "columns_to_drop = [\n",
    "    'nomor_pendaftaran',\n",
    "    'Lulus pada Prodi',\n",
    "    'IP Sem 1',\n",
    "    'IP Sem 2',\n",
    "    'Predikat Semester 1',\n",
    "    'Predikat Semester 2'\n",
    "]\n",
    "\n",
    "# Menghapus kolom dari DataFrame\n",
    "df.drop(columns=columns_to_drop, inplace=True)\n",
    "\n",
    "# Menampilkan 5 baris pertama dan info untuk memeriksa hasilnya\n",
    "print(\"Data setelah beberapa kolom dihapus:\")\n",
    "df.head()"
   ]
  },
  {
   "cell_type": "markdown",
   "metadata": {
    "id": "UQHWUMHz3w7o"
   },
   "source": [
    "### Penanganan Nilai Kosong pada Fitur (Imputation)\n"
   ]
  },
  {
   "cell_type": "markdown",
   "metadata": {
    "id": "xJ-2d7_a3yoR"
   },
   "source": [
    "Setelah membuang kolom yang tidak relevan, langkah selanjutnya adalah memeriksa kembali apakah masih ada nilai kosong (missing values) pada fitur-fitur yang tersisa. Mengetahui kolom mana dan berapa banyak data yang kosong sangat penting untuk menentukan strategi pengisian (imputasi) yang tepat.\n",
    "\n"
   ]
  },
  {
   "cell_type": "code",
   "execution_count": 9,
   "metadata": {
    "colab": {
     "base_uri": "https://localhost:8080/"
    },
    "id": "aFLyh8A73z6n",
    "outputId": "fdc012fb-b49b-4fb1-9318-a956265fb031"
   },
   "outputs": [
    {
     "name": "stdout",
     "output_type": "stream",
     "text": [
      "Jumlah nilai kosong pada setiap fitur:\n",
      "bidikmisi    2309\n",
      "Pilihan 2     618\n",
      "dtype: int64\n"
     ]
    }
   ],
   "source": [
    "# Menghitung jumlah nilai kosong untuk setiap kolom\n",
    "missing_values = df.isna().sum()\n",
    "\n",
    "# Menampilkan kolom yang memiliki nilai kosong (lebih dari 0)\n",
    "print(\"Jumlah nilai kosong pada setiap fitur:\")\n",
    "print(missing_values[missing_values > 0])"
   ]
  },
  {
   "cell_type": "markdown",
   "metadata": {
    "id": "Yl8T-D3V4RvX"
   },
   "source": [
    "Penanganan Nilai Kosong pada Fitur (Imputation) - Lanjutan\n"
   ]
  },
  {
   "cell_type": "markdown",
   "metadata": {
    "id": "0eA1kxqS4Xrg"
   },
   "source": [
    "Setiap kolom akan ditangani dengan strategi yang berbeda sesuai dengan maknanya:\n",
    "\n",
    "\n",
    "\n",
    "*   bidikmisi: Nilai kosong (NaN) pada kolom ini kemungkinan besar berarti mahasiswa tersebut tidak mendaftar program beasiswa Bidikmisi. Oleh karena itu, nilai kosong ini akan diisi dengan angka 0 (merepresentasikan \"tidak\").\n",
    "\n",
    "\n",
    "*   Pilihan 2: Nilai kosong di sini berarti calon mahasiswa tidak memilih program studi pilihan kedua. Nilai ini akan diisi dengan teks 'TIDAK MEMILIH' untuk menjadikannya sebuah kategori tersendiri.\n",
    "\n",
    "\n",
    "\n"
   ]
  },
  {
   "cell_type": "code",
   "execution_count": 10,
   "metadata": {
    "colab": {
     "base_uri": "https://localhost:8080/"
    },
    "id": "Gt8FGdNg4fbf",
    "outputId": "d7f23b4c-0e98-4352-9218-03fca6d66a6f"
   },
   "outputs": [
    {
     "name": "stdout",
     "output_type": "stream",
     "text": [
      "Total nilai kosong setelah imputasi: 0\n"
     ]
    }
   ],
   "source": [
    "# Mengisi nilai kosong pada kolom 'bidikmisi' dengan 0\n",
    "df['bidikmisi'] = df['bidikmisi'].fillna(0)\n",
    "\n",
    "# Mengisi nilai kosong pada kolom 'Pilihan 2' dengan 'TIDAK MEMILIH'\n",
    "df['Pilihan 2'] = df['Pilihan 2'].fillna('TIDAK MEMILIH')\n",
    "\n",
    "# Memeriksa kembali apakah masih ada nilai kosong yang tersisa di seluruh dataframe\n",
    "print(\"Total nilai kosong setelah imputasi:\", df.isna().sum().sum())"
   ]
  },
  {
   "cell_type": "markdown",
   "metadata": {
    "id": "Uz1JfAaM6f8I"
   },
   "source": [
    "### Encoding Fitur Kategorikal"
   ]
  },
  {
   "cell_type": "markdown",
   "metadata": {
    "id": "a2fl3ynX6hHf"
   },
   "source": [
    "Model machine learning hanya dapat memproses angka, bukan teks. Oleh karena itu, semua kolom yang masih berisi data teks (kategorikal) seperti 'JK', 'Sekolah', dan 'Pilihan 1' harus diubah menjadi format numerik.\n",
    "\n",
    "Metode yang akan digunakan adalah Binary Encoding. Metode ini efisien untuk kolom yang memiliki sangat banyak kategori unik (seperti nama sekolah atau kabupaten) karena tidak menghasilkan terlalu banyak kolom baru, sehingga menghemat memori dan waktu komputasi.\n",
    "\n"
   ]
  },
  {
   "cell_type": "code",
   "execution_count": 11,
   "metadata": {
    "colab": {
     "base_uri": "https://localhost:8080/",
     "height": 603
    },
    "id": "-4agVssm6jfH",
    "outputId": "7b5e5f5c-b841-439e-c19a-9932a7f65641"
   },
   "outputs": [
    {
     "name": "stdout",
     "output_type": "stream",
     "text": [
      "Collecting category_encoders\n",
      "  Downloading category_encoders-2.8.1-py3-none-any.whl.metadata (7.9 kB)\n",
      "Requirement already satisfied: numpy>=1.14.0 in /usr/local/lib/python3.12/dist-packages (from category_encoders) (2.0.2)\n",
      "Requirement already satisfied: pandas>=1.0.5 in /usr/local/lib/python3.12/dist-packages (from category_encoders) (2.2.2)\n",
      "Requirement already satisfied: patsy>=0.5.1 in /usr/local/lib/python3.12/dist-packages (from category_encoders) (1.0.1)\n",
      "Requirement already satisfied: scikit-learn>=1.6.0 in /usr/local/lib/python3.12/dist-packages (from category_encoders) (1.6.1)\n",
      "Requirement already satisfied: scipy>=1.0.0 in /usr/local/lib/python3.12/dist-packages (from category_encoders) (1.16.1)\n",
      "Requirement already satisfied: statsmodels>=0.9.0 in /usr/local/lib/python3.12/dist-packages (from category_encoders) (0.14.5)\n",
      "Requirement already satisfied: python-dateutil>=2.8.2 in /usr/local/lib/python3.12/dist-packages (from pandas>=1.0.5->category_encoders) (2.9.0.post0)\n",
      "Requirement already satisfied: pytz>=2020.1 in /usr/local/lib/python3.12/dist-packages (from pandas>=1.0.5->category_encoders) (2025.2)\n",
      "Requirement already satisfied: tzdata>=2022.7 in /usr/local/lib/python3.12/dist-packages (from pandas>=1.0.5->category_encoders) (2025.2)\n",
      "Requirement already satisfied: joblib>=1.2.0 in /usr/local/lib/python3.12/dist-packages (from scikit-learn>=1.6.0->category_encoders) (1.5.1)\n",
      "Requirement already satisfied: threadpoolctl>=3.1.0 in /usr/local/lib/python3.12/dist-packages (from scikit-learn>=1.6.0->category_encoders) (3.6.0)\n",
      "Requirement already satisfied: packaging>=21.3 in /usr/local/lib/python3.12/dist-packages (from statsmodels>=0.9.0->category_encoders) (25.0)\n",
      "Requirement already satisfied: six>=1.5 in /usr/local/lib/python3.12/dist-packages (from python-dateutil>=2.8.2->pandas>=1.0.5->category_encoders) (1.17.0)\n",
      "Downloading category_encoders-2.8.1-py3-none-any.whl (85 kB)\n",
      "\u001b[2K   \u001b[90m━━━━━━━━━━━━━━━━━━━━━━━━━━━━━━━━━━━━━━━━\u001b[0m \u001b[32m85.7/85.7 kB\u001b[0m \u001b[31m2.6 MB/s\u001b[0m eta \u001b[36m0:00:00\u001b[0m\n",
      "\u001b[?25hInstalling collected packages: category_encoders\n",
      "Successfully installed category_encoders-2.8.1\n",
      "Data setelah proses encoding:\n"
     ]
    },
    {
     "data": {
      "application/vnd.google.colaboratory.intrinsic+json": {
       "type": "dataframe",
       "variable_name": "df_encoded"
      },
      "text/html": [
       "\n",
       "  <div id=\"df-3aeb2330-858b-4f53-9285-0c76c1072981\" class=\"colab-df-container\">\n",
       "    <div>\n",
       "<style scoped>\n",
       "    .dataframe tbody tr th:only-of-type {\n",
       "        vertical-align: middle;\n",
       "    }\n",
       "\n",
       "    .dataframe tbody tr th {\n",
       "        vertical-align: top;\n",
       "    }\n",
       "\n",
       "    .dataframe thead th {\n",
       "        text-align: right;\n",
       "    }\n",
       "</style>\n",
       "<table border=\"1\" class=\"dataframe\">\n",
       "  <thead>\n",
       "    <tr style=\"text-align: right;\">\n",
       "      <th></th>\n",
       "      <th>JK_0</th>\n",
       "      <th>JK_1</th>\n",
       "      <th>bidikmisi_0</th>\n",
       "      <th>bidikmisi_1</th>\n",
       "      <th>Sekolah_0</th>\n",
       "      <th>Sekolah_1</th>\n",
       "      <th>Sekolah_2</th>\n",
       "      <th>Sekolah_3</th>\n",
       "      <th>Sekolah_4</th>\n",
       "      <th>Sekolah_5</th>\n",
       "      <th>...</th>\n",
       "      <th>X1</th>\n",
       "      <th>X2</th>\n",
       "      <th>X3</th>\n",
       "      <th>X4</th>\n",
       "      <th>X5</th>\n",
       "      <th>X6</th>\n",
       "      <th>X7</th>\n",
       "      <th>X8</th>\n",
       "      <th>X9</th>\n",
       "      <th>XT</th>\n",
       "    </tr>\n",
       "  </thead>\n",
       "  <tbody>\n",
       "    <tr>\n",
       "      <th>0</th>\n",
       "      <td>0</td>\n",
       "      <td>1</td>\n",
       "      <td>0</td>\n",
       "      <td>1</td>\n",
       "      <td>0</td>\n",
       "      <td>0</td>\n",
       "      <td>0</td>\n",
       "      <td>0</td>\n",
       "      <td>0</td>\n",
       "      <td>0</td>\n",
       "      <td>...</td>\n",
       "      <td>10.308333</td>\n",
       "      <td>10.343232</td>\n",
       "      <td>1.0</td>\n",
       "      <td>0</td>\n",
       "      <td>10.343232</td>\n",
       "      <td>10.343232</td>\n",
       "      <td>10.343232</td>\n",
       "      <td>10.343232</td>\n",
       "      <td>7.50</td>\n",
       "      <td>70.524492</td>\n",
       "    </tr>\n",
       "    <tr>\n",
       "      <th>1</th>\n",
       "      <td>1</td>\n",
       "      <td>0</td>\n",
       "      <td>0</td>\n",
       "      <td>1</td>\n",
       "      <td>0</td>\n",
       "      <td>0</td>\n",
       "      <td>0</td>\n",
       "      <td>0</td>\n",
       "      <td>0</td>\n",
       "      <td>0</td>\n",
       "      <td>...</td>\n",
       "      <td>10.064033</td>\n",
       "      <td>10.129159</td>\n",
       "      <td>1.0</td>\n",
       "      <td>0</td>\n",
       "      <td>10.129159</td>\n",
       "      <td>10.129159</td>\n",
       "      <td>10.129159</td>\n",
       "      <td>10.129159</td>\n",
       "      <td>10.00</td>\n",
       "      <td>71.709826</td>\n",
       "    </tr>\n",
       "    <tr>\n",
       "      <th>2</th>\n",
       "      <td>1</td>\n",
       "      <td>0</td>\n",
       "      <td>0</td>\n",
       "      <td>1</td>\n",
       "      <td>0</td>\n",
       "      <td>0</td>\n",
       "      <td>0</td>\n",
       "      <td>0</td>\n",
       "      <td>0</td>\n",
       "      <td>0</td>\n",
       "      <td>...</td>\n",
       "      <td>10.355911</td>\n",
       "      <td>10.159856</td>\n",
       "      <td>1.0</td>\n",
       "      <td>0</td>\n",
       "      <td>10.159856</td>\n",
       "      <td>10.159856</td>\n",
       "      <td>10.159856</td>\n",
       "      <td>10.159856</td>\n",
       "      <td>11.25</td>\n",
       "      <td>73.405190</td>\n",
       "    </tr>\n",
       "    <tr>\n",
       "      <th>3</th>\n",
       "      <td>0</td>\n",
       "      <td>1</td>\n",
       "      <td>0</td>\n",
       "      <td>1</td>\n",
       "      <td>0</td>\n",
       "      <td>0</td>\n",
       "      <td>0</td>\n",
       "      <td>0</td>\n",
       "      <td>0</td>\n",
       "      <td>0</td>\n",
       "      <td>...</td>\n",
       "      <td>10.243750</td>\n",
       "      <td>10.156762</td>\n",
       "      <td>1.0</td>\n",
       "      <td>0</td>\n",
       "      <td>10.156762</td>\n",
       "      <td>10.156762</td>\n",
       "      <td>10.156762</td>\n",
       "      <td>10.156762</td>\n",
       "      <td>7.50</td>\n",
       "      <td>68.527561</td>\n",
       "    </tr>\n",
       "    <tr>\n",
       "      <th>4</th>\n",
       "      <td>0</td>\n",
       "      <td>1</td>\n",
       "      <td>0</td>\n",
       "      <td>1</td>\n",
       "      <td>0</td>\n",
       "      <td>0</td>\n",
       "      <td>0</td>\n",
       "      <td>0</td>\n",
       "      <td>0</td>\n",
       "      <td>0</td>\n",
       "      <td>...</td>\n",
       "      <td>10.169643</td>\n",
       "      <td>10.072115</td>\n",
       "      <td>1.0</td>\n",
       "      <td>0</td>\n",
       "      <td>10.072115</td>\n",
       "      <td>10.072115</td>\n",
       "      <td>10.072115</td>\n",
       "      <td>10.072115</td>\n",
       "      <td>11.25</td>\n",
       "      <td>72.780220</td>\n",
       "    </tr>\n",
       "  </tbody>\n",
       "</table>\n",
       "<p>5 rows × 49 columns</p>\n",
       "</div>\n",
       "    <div class=\"colab-df-buttons\">\n",
       "\n",
       "  <div class=\"colab-df-container\">\n",
       "    <button class=\"colab-df-convert\" onclick=\"convertToInteractive('df-3aeb2330-858b-4f53-9285-0c76c1072981')\"\n",
       "            title=\"Convert this dataframe to an interactive table.\"\n",
       "            style=\"display:none;\">\n",
       "\n",
       "  <svg xmlns=\"http://www.w3.org/2000/svg\" height=\"24px\" viewBox=\"0 -960 960 960\">\n",
       "    <path d=\"M120-120v-720h720v720H120Zm60-500h600v-160H180v160Zm220 220h160v-160H400v160Zm0 220h160v-160H400v160ZM180-400h160v-160H180v160Zm440 0h160v-160H620v160ZM180-180h160v-160H180v160Zm440 0h160v-160H620v160Z\"/>\n",
       "  </svg>\n",
       "    </button>\n",
       "\n",
       "  <style>\n",
       "    .colab-df-container {\n",
       "      display:flex;\n",
       "      gap: 12px;\n",
       "    }\n",
       "\n",
       "    .colab-df-convert {\n",
       "      background-color: #E8F0FE;\n",
       "      border: none;\n",
       "      border-radius: 50%;\n",
       "      cursor: pointer;\n",
       "      display: none;\n",
       "      fill: #1967D2;\n",
       "      height: 32px;\n",
       "      padding: 0 0 0 0;\n",
       "      width: 32px;\n",
       "    }\n",
       "\n",
       "    .colab-df-convert:hover {\n",
       "      background-color: #E2EBFA;\n",
       "      box-shadow: 0px 1px 2px rgba(60, 64, 67, 0.3), 0px 1px 3px 1px rgba(60, 64, 67, 0.15);\n",
       "      fill: #174EA6;\n",
       "    }\n",
       "\n",
       "    .colab-df-buttons div {\n",
       "      margin-bottom: 4px;\n",
       "    }\n",
       "\n",
       "    [theme=dark] .colab-df-convert {\n",
       "      background-color: #3B4455;\n",
       "      fill: #D2E3FC;\n",
       "    }\n",
       "\n",
       "    [theme=dark] .colab-df-convert:hover {\n",
       "      background-color: #434B5C;\n",
       "      box-shadow: 0px 1px 3px 1px rgba(0, 0, 0, 0.15);\n",
       "      filter: drop-shadow(0px 1px 2px rgba(0, 0, 0, 0.3));\n",
       "      fill: #FFFFFF;\n",
       "    }\n",
       "  </style>\n",
       "\n",
       "    <script>\n",
       "      const buttonEl =\n",
       "        document.querySelector('#df-3aeb2330-858b-4f53-9285-0c76c1072981 button.colab-df-convert');\n",
       "      buttonEl.style.display =\n",
       "        google.colab.kernel.accessAllowed ? 'block' : 'none';\n",
       "\n",
       "      async function convertToInteractive(key) {\n",
       "        const element = document.querySelector('#df-3aeb2330-858b-4f53-9285-0c76c1072981');\n",
       "        const dataTable =\n",
       "          await google.colab.kernel.invokeFunction('convertToInteractive',\n",
       "                                                    [key], {});\n",
       "        if (!dataTable) return;\n",
       "\n",
       "        const docLinkHtml = 'Like what you see? Visit the ' +\n",
       "          '<a target=\"_blank\" href=https://colab.research.google.com/notebooks/data_table.ipynb>data table notebook</a>'\n",
       "          + ' to learn more about interactive tables.';\n",
       "        element.innerHTML = '';\n",
       "        dataTable['output_type'] = 'display_data';\n",
       "        await google.colab.output.renderOutput(dataTable, element);\n",
       "        const docLink = document.createElement('div');\n",
       "        docLink.innerHTML = docLinkHtml;\n",
       "        element.appendChild(docLink);\n",
       "      }\n",
       "    </script>\n",
       "  </div>\n",
       "\n",
       "\n",
       "    <div id=\"df-e1b4149d-a332-4154-9341-3e9c6ac0be34\">\n",
       "      <button class=\"colab-df-quickchart\" onclick=\"quickchart('df-e1b4149d-a332-4154-9341-3e9c6ac0be34')\"\n",
       "                title=\"Suggest charts\"\n",
       "                style=\"display:none;\">\n",
       "\n",
       "<svg xmlns=\"http://www.w3.org/2000/svg\" height=\"24px\"viewBox=\"0 0 24 24\"\n",
       "     width=\"24px\">\n",
       "    <g>\n",
       "        <path d=\"M19 3H5c-1.1 0-2 .9-2 2v14c0 1.1.9 2 2 2h14c1.1 0 2-.9 2-2V5c0-1.1-.9-2-2-2zM9 17H7v-7h2v7zm4 0h-2V7h2v10zm4 0h-2v-4h2v4z\"/>\n",
       "    </g>\n",
       "</svg>\n",
       "      </button>\n",
       "\n",
       "<style>\n",
       "  .colab-df-quickchart {\n",
       "      --bg-color: #E8F0FE;\n",
       "      --fill-color: #1967D2;\n",
       "      --hover-bg-color: #E2EBFA;\n",
       "      --hover-fill-color: #174EA6;\n",
       "      --disabled-fill-color: #AAA;\n",
       "      --disabled-bg-color: #DDD;\n",
       "  }\n",
       "\n",
       "  [theme=dark] .colab-df-quickchart {\n",
       "      --bg-color: #3B4455;\n",
       "      --fill-color: #D2E3FC;\n",
       "      --hover-bg-color: #434B5C;\n",
       "      --hover-fill-color: #FFFFFF;\n",
       "      --disabled-bg-color: #3B4455;\n",
       "      --disabled-fill-color: #666;\n",
       "  }\n",
       "\n",
       "  .colab-df-quickchart {\n",
       "    background-color: var(--bg-color);\n",
       "    border: none;\n",
       "    border-radius: 50%;\n",
       "    cursor: pointer;\n",
       "    display: none;\n",
       "    fill: var(--fill-color);\n",
       "    height: 32px;\n",
       "    padding: 0;\n",
       "    width: 32px;\n",
       "  }\n",
       "\n",
       "  .colab-df-quickchart:hover {\n",
       "    background-color: var(--hover-bg-color);\n",
       "    box-shadow: 0 1px 2px rgba(60, 64, 67, 0.3), 0 1px 3px 1px rgba(60, 64, 67, 0.15);\n",
       "    fill: var(--button-hover-fill-color);\n",
       "  }\n",
       "\n",
       "  .colab-df-quickchart-complete:disabled,\n",
       "  .colab-df-quickchart-complete:disabled:hover {\n",
       "    background-color: var(--disabled-bg-color);\n",
       "    fill: var(--disabled-fill-color);\n",
       "    box-shadow: none;\n",
       "  }\n",
       "\n",
       "  .colab-df-spinner {\n",
       "    border: 2px solid var(--fill-color);\n",
       "    border-color: transparent;\n",
       "    border-bottom-color: var(--fill-color);\n",
       "    animation:\n",
       "      spin 1s steps(1) infinite;\n",
       "  }\n",
       "\n",
       "  @keyframes spin {\n",
       "    0% {\n",
       "      border-color: transparent;\n",
       "      border-bottom-color: var(--fill-color);\n",
       "      border-left-color: var(--fill-color);\n",
       "    }\n",
       "    20% {\n",
       "      border-color: transparent;\n",
       "      border-left-color: var(--fill-color);\n",
       "      border-top-color: var(--fill-color);\n",
       "    }\n",
       "    30% {\n",
       "      border-color: transparent;\n",
       "      border-left-color: var(--fill-color);\n",
       "      border-top-color: var(--fill-color);\n",
       "      border-right-color: var(--fill-color);\n",
       "    }\n",
       "    40% {\n",
       "      border-color: transparent;\n",
       "      border-right-color: var(--fill-color);\n",
       "      border-top-color: var(--fill-color);\n",
       "    }\n",
       "    60% {\n",
       "      border-color: transparent;\n",
       "      border-right-color: var(--fill-color);\n",
       "    }\n",
       "    80% {\n",
       "      border-color: transparent;\n",
       "      border-right-color: var(--fill-color);\n",
       "      border-bottom-color: var(--fill-color);\n",
       "    }\n",
       "    90% {\n",
       "      border-color: transparent;\n",
       "      border-bottom-color: var(--fill-color);\n",
       "    }\n",
       "  }\n",
       "</style>\n",
       "\n",
       "      <script>\n",
       "        async function quickchart(key) {\n",
       "          const quickchartButtonEl =\n",
       "            document.querySelector('#' + key + ' button');\n",
       "          quickchartButtonEl.disabled = true;  // To prevent multiple clicks.\n",
       "          quickchartButtonEl.classList.add('colab-df-spinner');\n",
       "          try {\n",
       "            const charts = await google.colab.kernel.invokeFunction(\n",
       "                'suggestCharts', [key], {});\n",
       "          } catch (error) {\n",
       "            console.error('Error during call to suggestCharts:', error);\n",
       "          }\n",
       "          quickchartButtonEl.classList.remove('colab-df-spinner');\n",
       "          quickchartButtonEl.classList.add('colab-df-quickchart-complete');\n",
       "        }\n",
       "        (() => {\n",
       "          let quickchartButtonEl =\n",
       "            document.querySelector('#df-e1b4149d-a332-4154-9341-3e9c6ac0be34 button');\n",
       "          quickchartButtonEl.style.display =\n",
       "            google.colab.kernel.accessAllowed ? 'block' : 'none';\n",
       "        })();\n",
       "      </script>\n",
       "    </div>\n",
       "\n",
       "    </div>\n",
       "  </div>\n"
      ],
      "text/plain": [
       "   JK_0  JK_1  bidikmisi_0  bidikmisi_1  Sekolah_0  Sekolah_1  Sekolah_2  \\\n",
       "0     0     1            0            1          0          0          0   \n",
       "1     1     0            0            1          0          0          0   \n",
       "2     1     0            0            1          0          0          0   \n",
       "3     0     1            0            1          0          0          0   \n",
       "4     0     1            0            1          0          0          0   \n",
       "\n",
       "   Sekolah_3  Sekolah_4  Sekolah_5  ...         X1         X2   X3  X4  \\\n",
       "0          0          0          0  ...  10.308333  10.343232  1.0   0   \n",
       "1          0          0          0  ...  10.064033  10.129159  1.0   0   \n",
       "2          0          0          0  ...  10.355911  10.159856  1.0   0   \n",
       "3          0          0          0  ...  10.243750  10.156762  1.0   0   \n",
       "4          0          0          0  ...  10.169643  10.072115  1.0   0   \n",
       "\n",
       "          X5         X6         X7         X8     X9         XT  \n",
       "0  10.343232  10.343232  10.343232  10.343232   7.50  70.524492  \n",
       "1  10.129159  10.129159  10.129159  10.129159  10.00  71.709826  \n",
       "2  10.159856  10.159856  10.159856  10.159856  11.25  73.405190  \n",
       "3  10.156762  10.156762  10.156762  10.156762   7.50  68.527561  \n",
       "4  10.072115  10.072115  10.072115  10.072115  11.25  72.780220  \n",
       "\n",
       "[5 rows x 49 columns]"
      ]
     },
     "execution_count": 11,
     "metadata": {},
     "output_type": "execute_result"
    }
   ],
   "source": [
    "!pip install category_encoders\n",
    "\n",
    "import category_encoders as ce\n",
    "\n",
    "# Mengidentifikasi kolom-kolom yang bertipe objek (teks)\n",
    "categorical_cols = df.select_dtypes(include=['object']).columns\n",
    "\n",
    "# Membuat instance BinaryEncoder\n",
    "# drop_invariant=True digunakan untuk menghapus kolom yang tidak memiliki variasi (semua nilainya sama)\n",
    "encoder = ce.BinaryEncoder(cols=categorical_cols, drop_invariant=True)\n",
    "\n",
    "# Melakukan encoding pada data\n",
    "df_encoded = encoder.fit_transform(df)\n",
    "\n",
    "# Menampilkan 5 baris pertama dari data yang sudah di-encode\n",
    "print(\"Data setelah proses encoding:\")\n",
    "df_encoded.head()"
   ]
  },
  {
   "cell_type": "markdown",
   "metadata": {
    "id": "_1VcLriA68Uf"
   },
   "source": [
    "Kolom-kolom teks asli (seperti 'JK', 'Sekolah', 'Kabupaten', dll.) telah digantikan oleh serangkaian kolom baru (contoh: JK_0, JK_1, Sekolah_0, dst.). Kolom-kolom baru ini berisi representasi biner (0 dan 1) dari data teks sebelumnya.\n",
    "\n",
    "Hasil akhirnya adalah sebuah DataFrame dengan 49 kolom yang seluruhnya berisi data numerik. Dengan ini, tahap Preprocessing dan Pembersihan Data telah selesai, dan dataset kini sepenuhnya siap untuk tahap pembangunan model.\n",
    "\n"
   ]
  },
  {
   "cell_type": "markdown",
   "metadata": {
    "id": "LD-qWljM7Fv4"
   },
   "source": [
    "## Pembangunan Model (Modeling)\n"
   ]
  },
  {
   "cell_type": "markdown",
   "metadata": {
    "id": "SdR4qwS_7I2Q"
   },
   "source": [
    "### Pemisahan Data (Train-Test Split)\n"
   ]
  },
  {
   "cell_type": "markdown",
   "metadata": {
    "id": "-H_vshYY7Juh"
   },
   "source": [
    "Sebelum model dilatih, dataset perlu dibagi menjadi dua bagian:\n",
    "\n",
    "\n",
    "\n",
    "*   Data Latih (Training Data): Sebagian besar data (80%) yang akan digunakan untuk \"mengajari\" model dalam mengenali pola.\n",
    "\n",
    "\n",
    "*   Data Uji (Testing Data): Sisa data (20%) yang disimpan dan akan digunakan untuk menguji seberapa baik model yang sudah dilatih dalam membuat prediksi pada data yang belum pernah dilihat sebelumnya.\n",
    "\n",
    "\n",
    "Pemisahan ini penting untuk evaluasi yang objektif. Parameter stratify digunakan untuk memastikan proporsi setiap kelas kelulusan (0, 1, dan 2) pada data latih dan data uji sama dengan proporsi pada dataset aslinya. Ini sangat krusial untuk kasus data tidak seimbang.\n",
    "\n"
   ]
  },
  {
   "cell_type": "code",
   "execution_count": 12,
   "metadata": {
    "colab": {
     "base_uri": "https://localhost:8080/"
    },
    "id": "3OXJpnWI7N22",
    "outputId": "b3ab26cf-06f6-4573-bf06-5fa265b44407"
   },
   "outputs": [
    {
     "name": "stdout",
     "output_type": "stream",
     "text": [
      "Ukuran X_train: (2869, 48)\n",
      "Ukuran X_test: (718, 48)\n",
      "Ukuran y_train: (2869,)\n",
      "Ukuran y_test: (718,)\n"
     ]
    }
   ],
   "source": [
    "from sklearn.model_selection import train_test_split\n",
    "\n",
    "# Memisahkan fitur (X) dan target (y)\n",
    "X = df_encoded.drop('Lulus Pilihan', axis=1)\n",
    "y = df_encoded['Lulus Pilihan']\n",
    "\n",
    "# Membagi data menjadi 80% data latih dan 20% data uji\n",
    "# stratify=y memastikan proporsi kelas target tetap sama di kedua set\n",
    "X_train, X_test, y_train, y_test = train_test_split(\n",
    "    X, y,\n",
    "    test_size=0.2,\n",
    "    random_state=42,\n",
    "    stratify=y\n",
    ")\n",
    "\n",
    "# Menampilkan ukuran (shape) dari setiap set data untuk verifikasi\n",
    "print(\"Ukuran X_train:\", X_train.shape)\n",
    "print(\"Ukuran X_test:\", X_test.shape)\n",
    "print(\"Ukuran y_train:\", y_train.shape)\n",
    "print(\"Ukuran y_test:\", y_test.shape)"
   ]
  },
  {
   "cell_type": "markdown",
   "metadata": {
    "id": "yug_E4aM8HqW"
   },
   "source": [
    "Output tersebut menunjukkan bahwa dataset telah berhasil dibagi. Data latih (X_train) terdiri dari 2869 baris data, dan data uji (X_test) terdiri dari 718 baris, sesuai dengan rasio pembagian 80:20. Jumlah 48 kolom fitur konsisten di kedua set data.\n",
    "\n"
   ]
  },
  {
   "cell_type": "code",
   "execution_count": 13,
   "metadata": {
    "colab": {
     "base_uri": "https://localhost:8080/"
    },
    "id": "oMtz5oWy-mLq",
    "outputId": "8081d7c4-00d5-43b1-a231-59fe5f369706"
   },
   "outputs": [
    {
     "name": "stdout",
     "output_type": "stream",
     "text": [
      "Requirement already satisfied: imbalanced-learn in /usr/local/lib/python3.12/dist-packages (0.14.0)\n",
      "Requirement already satisfied: numpy<3,>=1.25.2 in /usr/local/lib/python3.12/dist-packages (from imbalanced-learn) (2.0.2)\n",
      "Requirement already satisfied: scipy<2,>=1.11.4 in /usr/local/lib/python3.12/dist-packages (from imbalanced-learn) (1.16.1)\n",
      "Requirement already satisfied: scikit-learn<2,>=1.4.2 in /usr/local/lib/python3.12/dist-packages (from imbalanced-learn) (1.6.1)\n",
      "Requirement already satisfied: joblib<2,>=1.2.0 in /usr/local/lib/python3.12/dist-packages (from imbalanced-learn) (1.5.1)\n",
      "Requirement already satisfied: threadpoolctl<4,>=2.0.0 in /usr/local/lib/python3.12/dist-packages (from imbalanced-learn) (3.6.0)\n",
      "Distribusi kelas sebelum SMOTE:\n",
      "Lulus Pilihan\n",
      "0    2274\n",
      "1     557\n",
      "2      38\n",
      "Name: count, dtype: int64\n",
      "\n",
      "Distribusi kelas setelah SMOTE:\n",
      "Lulus Pilihan\n",
      "0    2274\n",
      "1    2274\n",
      "2    2274\n",
      "Name: count, dtype: int64\n",
      "\n",
      "Ukuran X_train setelah SMOTE: (6822, 48)\n"
     ]
    }
   ],
   "source": [
    "!pip install imbalanced-learn\n",
    "\n",
    "from imblearn.over_sampling import SMOTE\n",
    "import pandas as pd\n",
    "\n",
    "# 2. Tampilkan distribusi kelas SEBELUM SMOTE (untuk perbandingan)\n",
    "print(\"Distribusi kelas sebelum SMOTE:\")\n",
    "print(pd.Series(y_train).value_counts())\n",
    "\n",
    "# 3. Inisialisasi SMOTE\n",
    "# random_state untuk memastikan hasilnya bisa direproduksi\n",
    "smote = SMOTE(random_state=42)\n",
    "\n",
    "# 4. Terapkan SMOTE hanya pada data latih\n",
    "# Ini akan membuat sampel baru untuk kelas 1 dan 2 agar jumlahnya sama dengan kelas 0\n",
    "X_train_smote, y_train_smote = smote.fit_resample(X_train, y_train)\n",
    "\n",
    "# 5. Tampilkan distribusi kelas SETELAH SMOTE\n",
    "print(\"\\nDistribusi kelas setelah SMOTE:\")\n",
    "print(pd.Series(y_train_smote).value_counts())\n",
    "\n",
    "# 6. Verifikasi ukuran data latih yang baru\n",
    "print(\"\\nUkuran X_train setelah SMOTE:\", X_train_smote.shape)"
   ]
  },
  {
   "cell_type": "markdown",
   "metadata": {
    "id": "VnpL4jEY8cI-"
   },
   "source": [
    "### Pelatihan Model (Model Training)\n"
   ]
  },
  {
   "cell_type": "markdown",
   "metadata": {
    "id": "XTs0oSk68dB3"
   },
   "source": [
    "Pada langkah ini, model machine learning akan \"belajar\" dari data latih (X_train dan y_train) yang sudah di siapkan. Algoritma yang digunakan adalah RandomForestClassifier.\n",
    "\n",
    "Karena data tidak seimbang, sebuah parameter penting yaitu class_weight='balanced' akan digunakan. Parameter ini secara otomatis akan memberikan bobot yang lebih tinggi pada kelas minoritas (lulus pilihan 1 dan 2). Tujuannya adalah agar model tidak mengabaikan kelas-kelas tersebut dan lebih sensitif dalam memprediksinya, meskipun jumlah datanya sedikit.\n",
    "\n"
   ]
  },
  {
   "cell_type": "code",
   "execution_count": 14,
   "metadata": {
    "colab": {
     "base_uri": "https://localhost:8080/"
    },
    "id": "9J9iyqTa8eKQ",
    "outputId": "dae7926c-d63e-4a2a-bc37-c814be19b179"
   },
   "outputs": [
    {
     "name": "stdout",
     "output_type": "stream",
     "text": [
      "Model RandomForestClassifier berhasil dilatih.\n"
     ]
    }
   ],
   "source": [
    "from sklearn.ensemble import RandomForestClassifier\n",
    "\n",
    "# Membuat instance model RandomForestClassifier\n",
    "# class_weight='balanced' untuk menangani data tidak seimbang\n",
    "model = RandomForestClassifier(random_state=42, class_weight='balanced')\n",
    "\n",
    "# Melatih model menggunakan data latih\n",
    "model.fit(X_train_smote, y_train_smote)\n",
    "\n",
    "print(\"Model RandomForestClassifier berhasil dilatih.\")"
   ]
  },
  {
   "cell_type": "markdown",
   "metadata": {
    "id": "DA9pv2C299ZS"
   },
   "source": [
    "## Evaluasi Model"
   ]
  },
  {
   "cell_type": "markdown",
   "metadata": {
    "id": "lr4cPOSE-BpS"
   },
   "source": [
    "### Analisis Metrik Klasifikasi"
   ]
  },
  {
   "cell_type": "markdown",
   "metadata": {
    "id": "YfM0h3iS-Fga"
   },
   "source": [
    "Tahap evaluasi ini bertujuan untuk mengukur performa model pada data uji—data yang belum pernah \"dilihat\" sebelumnya. Pertama, menggunakan model yang sudah dilatih untuk membuat prediksi pada X_test.\n",
    "\n",
    "Selanjutnya, hasil prediksi tersebut akan dibandingkan dengan jawaban yang sebenarnya (y_test) menggunakan Classification Report. Laporan ini akan menampilkan metrik-metrik penting:\n",
    "\n",
    "\n",
    "\n",
    "*   Precision: Tingkat akurasi dari prediksi yang dibuat. Dari semua yang diprediksi sebagai kelas X, berapa persen yang benar?\n",
    "\n",
    "\n",
    "*   Recall (Sensitivity): Kemampuan model untuk menemukan kembali data dari suatu kelas. Dari semua data asli kelas X, berapa persen yang berhasil ditemukan?\n",
    "\n",
    "*   F1-Score: Rata-rata harmonik dari Precision dan Recall. Metrik ini sangat berguna untuk data tidak seimbang.\n",
    "\n",
    "\n",
    "\n",
    "\n",
    "\n"
   ]
  },
  {
   "cell_type": "code",
   "execution_count": 16,
   "metadata": {
    "colab": {
     "base_uri": "https://localhost:8080/"
    },
    "id": "HkVNHhsy-PF7",
    "outputId": "0a8c6b8a-3dd4-4bd6-df55-8fc429cf3e40"
   },
   "outputs": [
    {
     "name": "stdout",
     "output_type": "stream",
     "text": [
      "Laporan Hasil Klasifikasi:\n",
      "                 precision    recall  f1-score   support\n",
      "\n",
      "Tidak Lulus (0)       0.94      0.95      0.94       569\n",
      "Lulus Pil 1 (1)       0.77      0.78      0.78       139\n",
      "Lulus Pil 2 (2)       0.00      0.00      0.00        10\n",
      "\n",
      "       accuracy                           0.90       718\n",
      "      macro avg       0.57      0.58      0.57       718\n",
      "   weighted avg       0.89      0.90      0.90       718\n",
      "\n"
     ]
    }
   ],
   "source": [
    "from sklearn.metrics import classification_report\n",
    "\n",
    "# Membuat prediksi pada data uji\n",
    "y_pred = model.predict(X_test)\n",
    "\n",
    "# Menghasilkan dan menampilkan classification report\n",
    "report = classification_report(y_test, y_pred, target_names=['Tidak Lulus (0)', 'Lulus Pil 1 (1)', 'Lulus Pil 2 (2)'])\n",
    "\n",
    "print(\"Laporan Hasil Klasifikasi:\")\n",
    "print(report)"
   ]
  },
  {
   "cell_type": "markdown",
   "metadata": {
    "id": "Ien6Ji_D-sbq"
   },
   "source": [
    "Laporan ini menyajikan metrik evaluasi kinerja model Random Forest Classifier pada data uji, setelah model dilatih menggunakan data latih yang telah diseimbangkan dengan metode SMOTE.\n",
    "\n",
    "*   Performa pada Kelas Mayoritas (Tidak Lulus): Model menunjukkan kinerja yang sangat tinggi untuk kelas Tidak Lulus (0). Dengan nilai F1-Score sebesar 0.94, model ini sangat efektif dan dapat diandalkan dalam mengidentifikasi mahasiswa yang tidak lulus.\n",
    "\n",
    "*   Performa pada Kelas Minoritas (Lulus Pil 1): Untuk kelas Lulus Pil 1 (1), model menunjukkan kinerja yang moderat dengan F1-Score 0.78. Nilai ini merefleksikan keseimbangan antara precision (0.77) dan recall (0.78), yang mengindikasikan bahwa model cukup mampu mengidentifikasi mahasiswa yang lulus di pilihan pertama.\n",
    "\n",
    "*   Performa pada Kelas Minoritas Ekstrem (Lulus Pil 2): Model sepenuhnya gagal untuk mengidentifikasi kelas Lulus Pil 2 (2). Seluruh metrik evaluasi—precision, recall, dan f1-score—menunjukkan nilai 0.00. Hal ini menandakan bahwa tidak ada satu pun prediksi yang benar untuk kelas ini, yang disebabkan oleh jumlah sampel yang sangat terbatas dalam dataset.\n",
    "\n",
    "Secara keseluruhan, akurasi sebesar 90% bersifat menyesatkan (misleading) karena didominasi oleh keberhasilan model dalam memprediksi kelas mayoritas, sementara menyembunyikan kegagalan total pada kelas minoritas ekstrem.\n",
    "\n"
   ]
  },
  {
   "cell_type": "markdown",
   "metadata": {
    "id": "p9PDjpHz_KHk"
   },
   "source": [
    "### Analisis Fitur Penting (Feature Importance)\n"
   ]
  },
  {
   "cell_type": "markdown",
   "metadata": {
    "id": "CGWOsWxV_MbC"
   },
   "source": [
    "Setiap pohon keputusan dalam algoritma Random Forest menghitung seberapa besar kontribusi setiap fitur dalam mengurangi impurity atau kesalahan prediksi. Feature Importance adalah rata-rata dari kontribusi tersebut di semua pohon.\n",
    "\n",
    "Dengan memvisualisasikan fitur-fitur terpenting, kita dapat melihat faktor apa saja (misalnya, ranking sekolah, nilai mapel, atau pilihan prodi) yang paling berpengaruh menurut model dalam menentukan kelulusan.\n",
    "\n"
   ]
  },
  {
   "cell_type": "code",
   "execution_count": 17,
   "metadata": {
    "colab": {
     "base_uri": "https://localhost:8080/",
     "height": 807
    },
    "id": "a_pg9Rby_N5D",
    "outputId": "f6d6d2f9-de5c-48b6-b1ba-08c1753876f4"
   },
   "outputs": [
    {
     "name": "stderr",
     "output_type": "stream",
     "text": [
      "/tmp/ipython-input-3103375209.py:15: FutureWarning: \n",
      "\n",
      "Passing `palette` without assigning `hue` is deprecated and will be removed in v0.14.0. Assign the `y` variable to `hue` and set `legend=False` for the same effect.\n",
      "\n",
      "  sns.barplot(\n"
     ]
    },
    {
     "name": "stdout",
     "output_type": "stream",
     "text": [
      "Grafik 'feature_importance.png' berhasil disimpan.\n"
     ]
    },
    {
     "data": {
      "image/png": "[encoded data removed]",
      "text/plain": [
       "<Figure size 1000x800 with 1 Axes>"
      ]
     },
     "metadata": {},
     "output_type": "display_data"
    }
   ],
   "source": [
    "import matplotlib.pyplot as plt\n",
    "import seaborn as sns\n",
    "\n",
    "# Mendapatkan skor kepentingan fitur dari model\n",
    "importances = model.feature_importances_\n",
    "\n",
    "# Membuat DataFrame untuk memudahkan visualisasi\n",
    "feature_importance_df = pd.DataFrame({\n",
    "    'feature': X.columns,\n",
    "    'importance': importances\n",
    "}).sort_values('importance', ascending=False)\n",
    "\n",
    "# Membuat plot\n",
    "plt.figure(figsize=(10, 8))\n",
    "sns.barplot(\n",
    "    x='importance',\n",
    "    y='feature',\n",
    "    data=feature_importance_df.head(15), # Mengambil 15 fitur teratas\n",
    "    palette='viridis'\n",
    ")\n",
    "\n",
    "plt.title('15 Fitur Paling Penting Menurut Model')\n",
    "plt.xlabel('Skor Kepentingan')\n",
    "plt.ylabel('Fitur')\n",
    "plt.tight_layout() # Menyesuaikan layout agar tidak terpotong\n",
    "plt.savefig('feature_importance.png')\n",
    "\n",
    "print(\"Grafik 'feature_importance.png' berhasil disimpan.\")"
   ]
  },
  {
   "cell_type": "markdown",
   "metadata": {
    "id": "PtaAbMntYWBP"
   },
   "source": [
    "Diagram ini mengilustrasikan tingkat kepentingan (importance) dari setiap fitur dalam proses pengambilan keputusan model Random Forest. Skor kepentingan mengukur seberapa besar kontribusi sebuah fitur dalam mengurangi ketidakmurnian (impurity) di seluruh pohon keputusan yang dibangun.\n",
    "\n",
    "\n",
    "\n",
    "*   Fitur Paling Berpengaruh: Hasil analisis menunjukkan bahwa serangkaian fitur yang tidak teridentifikasi, yaitu X1, X2, XT, X3, X5, dan X4, merupakan prediktor dengan pengaruh paling signifikan terhadap hasil prediksi model.\n",
    "\n",
    "*   Fitur Lainnya: Fitur yang dapat diinterpretasikan seperti Nilai Mapel UN dan Ranking Sekolah juga memiliki kontribusi, namun skor kepentingannya jauh lebih rendah dibandingkan dengan fitur-fitur 'X'.\n",
    "\n",
    "\n",
    "*   Keterbatasan Interpretasi: Ketergantungan model yang sangat tinggi pada fitur-fitur 'X' yang tidak diketahui maknanya menjadi sebuah keterbatasan fundamental. Meskipun fitur-fitur ini kuat secara prediktif, ketidakmampuan untuk menginterpretasikannya menjadikan model ini sebagai \"kotak hitam\" (black box). Hal ini menimbulkan tantangan dalam memvalidasi logika di balik keputusan model dan membangun kepercayaan terhadap hasilnya.\n",
    "\n"
   ]
  },
  {
   "cell_type": "markdown",
   "metadata": {
    "id": "2bKxVcXBygcW"
   },
   "source": [
    "##"
   ]
  }
 ],
 "metadata": {
  "colab": {
   "collapsed_sections": [
    "K_YYgaGzXD4j"
   ],
   "gpuType": "T4",
   "provenance": []
  },
  "kernelspec": {
   "display_name": "Python 3",
   "name": "python3"
  },
  "language_info": {
   "name": "python"
  }
 },
 "nbformat": 4,
 "nbformat_minor": 0
}